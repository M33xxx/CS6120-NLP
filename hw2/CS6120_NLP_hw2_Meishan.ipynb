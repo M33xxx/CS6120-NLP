{
 "cells": [
  {
   "cell_type": "markdown",
   "metadata": {
    "id": "ni4T_dwEHFVa"
   },
   "source": [
    "## CS 6120: Natural Language Processing - Prof. Ahmad Uzair\n",
    "\n",
    "### Assignment 2: Text Classification and Neural Network\n",
    "### Total Points: 100 points"
   ]
  },
  {
   "cell_type": "markdown",
   "metadata": {
    "id": "loQ22M-bCubq"
   },
   "source": [
    "In Assignment 2, you will be dealing with text classification using Multinomial Naive Bayes and Neural Networks. You will also be dealing with vector visualization. In the previous assingment you implemented Bag of Words as the feature selection method. However, in this assignment you will be using TF-IDF Vectorization instead of Bag of Words. We recommend starting with this assignment a little early as the datasets are quite large and several parts of the assignment might take long duration to execute. "
   ]
  },
  {
   "cell_type": "markdown",
   "metadata": {
    "id": "Q3brglC1C0mZ"
   },
   "source": [
    "## Question 1 Text Classification"
   ]
  },
  {
   "cell_type": "markdown",
   "metadata": {
    "id": "IZ1y75IoC3rE"
   },
   "source": [
    "In the first question you will be dealing with 20 News Group Dataset. You are required to implement TF-IDF vectorization from scratch and perform Multinomial Naive Bayes Classification on the News Group Dataset.\n",
    "You may use appropriate packages or modules for fitting the Multinomial Naive Bayes Model, however, the implementation of the TF-IDF Vectorization should be from the scratch."
   ]
  },
  {
   "cell_type": "markdown",
   "metadata": {
    "id": "yRjM45PyC8ML"
   },
   "source": [
    "The 20 newsgroups dataset comprises around 18000 newsgroups posts on 20 topics split in two subsets: one for training (or development) and the other one for testing (or for performance evaluation). The split between the train and test set is based upon a messages posted before and after a specific date.\n",
    "\n",
    "Link to the original dataset: http://archive.ics.uci.edu/ml/datasets/Twenty+Newsgroups\n",
    "\n",
    "You can also import the dataset from sklearn.datasets"
   ]
  },
  {
   "cell_type": "code",
   "execution_count": 1,
   "metadata": {
    "ExecuteTime": {
     "end_time": "2022-06-19T23:42:39.141207Z",
     "start_time": "2022-06-19T23:42:37.594570Z"
    },
    "id": "CmFf2INNDJRb"
   },
   "outputs": [],
   "source": [
    "#importing the libraries\n",
    "\n",
    "import numpy as np\n",
    "import sklearn\n",
    "from sklearn.feature_extraction.text import TfidfVectorizer\n",
    "from sklearn.datasets import fetch_20newsgroups\n",
    "from pprint import pprint\n",
    "from sklearn.feature_extraction.text import CountVectorizer\n",
    "from sklearn import preprocessing\n",
    "import pandas as pd\n",
    "import re\n",
    "import numpy as np\n",
    "from nltk.tokenize import  word_tokenize \n",
    "import nltk\n",
    "from sklearn.naive_bayes import MultinomialNB\n",
    "from sklearn import metrics\n"
   ]
  },
  {
   "cell_type": "code",
   "execution_count": 2,
   "metadata": {
    "ExecuteTime": {
     "end_time": "2022-06-19T23:42:42.811849Z",
     "start_time": "2022-06-19T23:42:41.134843Z"
    },
    "id": "AEp1SHe5DKCB"
   },
   "outputs": [],
   "source": [
    "# Import the 20 news group dataset utilizing sklearn library\n",
    "\n",
    "mydata_train = fetch_20newsgroups(data_home=None,subset='train', categories=None, shuffle=True, \n",
    "                                  random_state=42, remove=('headers','footers','quotes'), download_if_missing=True )\n",
    "\n",
    "mydata_test = fetch_20newsgroups(data_home=None,subset='test', categories=None, shuffle=True, \n",
    "                                 random_state=42, remove=('headers','footers','quotes'), download_if_missing=True )\n"
   ]
  },
  {
   "cell_type": "code",
   "execution_count": 3,
   "metadata": {
    "ExecuteTime": {
     "end_time": "2022-06-19T23:42:49.793584Z",
     "start_time": "2022-06-19T23:42:49.776581Z"
    },
    "id": "OscOmcE0DMHa"
   },
   "outputs": [
    {
     "name": "stdout",
     "output_type": "stream",
     "text": [
      "['alt.atheism', 'comp.graphics', 'comp.os.ms-windows.misc', 'comp.sys.ibm.pc.hardware', 'comp.sys.mac.hardware', 'comp.windows.x', 'misc.forsale', 'rec.autos', 'rec.motorcycles', 'rec.sport.baseball', 'rec.sport.hockey', 'sci.crypt', 'sci.electronics', 'sci.med', 'sci.space', 'soc.religion.christian', 'talk.politics.guns', 'talk.politics.mideast', 'talk.politics.misc', 'talk.religion.misc']\n"
     ]
    }
   ],
   "source": [
    "# Print the news groups(target) in the dataset\n",
    "\n",
    "print(list(mydata_train.target_names))"
   ]
  },
  {
   "cell_type": "code",
   "execution_count": 4,
   "metadata": {
    "ExecuteTime": {
     "end_time": "2022-06-19T23:42:59.422865Z",
     "start_time": "2022-06-19T23:42:59.408861Z"
    },
    "id": "JvQb2r0aDR_J"
   },
   "outputs": [
    {
     "name": "stdout",
     "output_type": "stream",
     "text": [
      "<class 'sklearn.utils.Bunch'>\n",
      "<class 'sklearn.utils.Bunch'>\n"
     ]
    }
   ],
   "source": [
    "# What is the type of 'mydata_train' and 'mydata_test'\n",
    "\n",
    "print(type(mydata_train))\n",
    "print(type(mydata_test))"
   ]
  },
  {
   "cell_type": "code",
   "execution_count": 5,
   "metadata": {
    "ExecuteTime": {
     "end_time": "2022-06-19T23:43:04.730026Z",
     "start_time": "2022-06-19T23:43:04.712022Z"
    },
    "id": "ozzwyREhDaMK"
   },
   "outputs": [
    {
     "name": "stdout",
     "output_type": "stream",
     "text": [
      "11314\n",
      "11314\n",
      "7532\n",
      "7532\n"
     ]
    }
   ],
   "source": [
    "# Check the length of the data\n",
    "\n",
    "print(len(mydata_train.data))\n",
    "print(len(mydata_train.filenames))\n",
    "print(len(mydata_test.data))\n",
    "print(len(mydata_test.filenames))"
   ]
  },
  {
   "cell_type": "markdown",
   "metadata": {
    "id": "BlipMuEpDz-K"
   },
   "source": [
    "### Expected Output: \n",
    "11314\n",
    "\n",
    "11314\n",
    "\n",
    "7532\n",
    "\n",
    "7532"
   ]
  },
  {
   "cell_type": "markdown",
   "metadata": {
    "id": "55FKOBBuEDI2"
   },
   "source": [
    "## Extracting Features from the Dataset                        (20 Points)"
   ]
  },
  {
   "cell_type": "markdown",
   "metadata": {
    "id": "u4GDENzmEEkG"
   },
   "source": [
    "In order to perform machine learning on text documents, we first need to turn the text content into numerical feature vectors."
   ]
  },
  {
   "cell_type": "markdown",
   "metadata": {
    "id": "OgxfDXmxEHid"
   },
   "source": [
    "### TF-IDF Vectorization"
   ]
  },
  {
   "cell_type": "markdown",
   "metadata": {
    "id": "Q8qNFFYyEKsa"
   },
   "source": [
    "Our model cannot simply read the text data so we convert it into numerical format. In order to convert the data into numerical format we create vectors from text.\n",
    "\n",
    "For this particular purpose we could either employ Bag of Words or TF-IDF Vectorization\n",
    "\n",
    "Bag of Words just creates a set of vectors containing the count of word occurrences in the document (reviews), while the TF-IDF model contains information on the more important words and the less important ones as well.\n",
    "\n",
    "TF-IDF stands for Term Frequency-Inverse Document Frequency, which instead of giving more weight to words that occur more frequently, it gives a higher weight to words that occur less frequently.\n",
    "\n",
    "Ref:https://www.analyticsvidhya.com/blog/2020/02/quick-introduction-bag-of-words-bow-tf-idf/#:~:text=Bag%20of%20Words%20just%20creates,less%20important%20ones%20as%20well."
   ]
  },
  {
   "cell_type": "markdown",
   "metadata": {
    "id": "dLzgRJRZEP3k"
   },
   "source": [
    "TF-IDF = Term Frequency (TF) * Inverse Document Frequency (IDF)"
   ]
  },
  {
   "cell_type": "markdown",
   "metadata": {
    "id": "xe5lHi3NE1QJ"
   },
   "source": [
    "Term Frequency is the measure of the frequency of words in a document. It is the ratio of the number of times the word appears in a document compared to the total number of words in that document.\n",
    "\n",
    "The words that occur rarely in the corpus have a high IDF score. It is the log of the ratio of the number of documents to the number of documents containing the word."
   ]
  },
  {
   "cell_type": "markdown",
   "metadata": {
    "id": "HXotAER_EQ8T"
   },
   "source": [
    "idf(t) = log(N/(df + 1))"
   ]
  },
  {
   "cell_type": "code",
   "execution_count": 6,
   "metadata": {
    "ExecuteTime": {
     "end_time": "2022-06-19T23:43:14.254873Z",
     "start_time": "2022-06-19T23:43:14.236869Z"
    },
    "id": "2vzVI8ylFAEl"
   },
   "outputs": [],
   "source": [
    "text = mydata_train.data\n",
    "test = mydata_test.data"
   ]
  },
  {
   "cell_type": "markdown",
   "metadata": {
    "id": "HZ2AatmvFtE-"
   },
   "source": [
    "## Preprocessing the Corpus"
   ]
  },
  {
   "cell_type": "code",
   "execution_count": 7,
   "metadata": {
    "ExecuteTime": {
     "end_time": "2022-06-19T23:43:54.508176Z",
     "start_time": "2022-06-19T23:43:40.264347Z"
    },
    "id": "XyJbe42AFuHp"
   },
   "outputs": [],
   "source": [
    "# Preprocessing the data\n",
    "import string\n",
    "from tkinter import _flatten\n",
    "\n",
    "lines = [] \n",
    "word_list = [] \n",
    "\n",
    "for line in text:\n",
    "    rmv_punc = \"\".join([w.lower() for w in line if not w in string.punctuation])\n",
    "    token_line = word_tokenize(rmv_punc)\n",
    "    l = [t for t in token_line if t.isalpha()]\n",
    "    lines.append(l)\n",
    "\n",
    "# Make sure the word_list contains unique tokens\n",
    "\n",
    "word_list = \" \".join(list(_flatten(lines)))\n",
    "word_list = word_tokenize(word_list)\n",
    "word_list = list(np.unique(np.array(word_list)))\n",
    "\n",
    "# Calculate the total documents present in the corpus\n",
    "total_docs = len(text)\n",
    " \n",
    "#Create a dictionary to keep track of index of each word\n",
    "dict_idx = {}\n",
    "\n",
    "for i in range(len(word_list)):\n",
    "    dict_idx[word_list[i]] = i"
   ]
  },
  {
   "cell_type": "code",
   "execution_count": 8,
   "metadata": {
    "ExecuteTime": {
     "end_time": "2022-06-19T23:44:32.913371Z",
     "start_time": "2022-06-19T23:44:32.897006Z"
    },
    "id": "E6M_CoI9FxYb"
   },
   "outputs": [],
   "source": [
    "# Create a frequency dictionary\n",
    " \n",
    "def frequency_dict(lines):\n",
    "    '''\n",
    "    lines: list containing all the tokens\n",
    "    ---\n",
    "    freq_word: returns a dictionary which keeps the count of the number of documents containing the given word\n",
    "    '''\n",
    "    \n",
    "    freq_word = {}\n",
    "    \n",
    "    for w in word_list:\n",
    "        freq_word[w] = 0   \n",
    "\n",
    "        for l in lines:\n",
    "            if w in l:\n",
    "                freq_word[w] += 1\n",
    "    \n",
    "    return freq_word"
   ]
  },
  {
   "cell_type": "code",
   "execution_count": 9,
   "metadata": {
    "ExecuteTime": {
     "end_time": "2022-06-20T00:09:56.023519Z",
     "start_time": "2022-06-19T23:44:40.780776Z"
    },
    "id": "qFkt9KBgFz43"
   },
   "outputs": [
    {
     "data": {
      "text/plain": [
       "{'a': 8310,\n",
       " 'aa': 29,\n",
       " 'aaa': 24,\n",
       " 'aaaaaaaaaaaa': 1,\n",
       " 'aaaaaaaaaaaaaaaaaaaaaaaaaaaaaaauuuuuuuuuuuuuuuuuuuuuuuuuuuuuuuugggggggggggggggg': 1,\n",
       " 'aaah': 1,\n",
       " 'aaahh': 1,\n",
       " 'aaahhhh': 1,\n",
       " 'aaai': 1,\n",
       " 'aaaimit': 1,\n",
       " 'aaamajors': 1,\n",
       " 'aacc': 1,\n",
       " 'aadams': 1,\n",
       " 'aah': 1,\n",
       " 'aalternate': 1,\n",
       " 'aamazing': 1,\n",
       " 'aamir': 4,\n",
       " 'aammmaaaazzzzzziinnnnggggg': 1,\n",
       " 'aan': 1,\n",
       " 'aanbieden': 1,\n",
       " 'aanerud': 1,\n",
       " 'aangeboden': 1,\n",
       " 'aangegeven': 1,\n",
       " 'aangezien': 1,\n",
       " 'aantal': 1,\n",
       " 'aantalsnijpunten': 1,\n",
       " 'aao': 1,\n",
       " 'aap': 1,\n",
       " 'aaplayexe': 1,\n",
       " 'aargh': 1,\n",
       " 'aarm': 1,\n",
       " 'aaron': 11,\n",
       " 'aarons': 2,\n",
       " 'aaronson': 1,\n",
       " 'aarp': 1,\n",
       " 'aarseth': 1,\n",
       " 'aarskog': 1,\n",
       " 'aas': 3,\n",
       " 'aasaiaa': 1,\n",
       " 'aasked': 1,\n",
       " 'aassists': 1,\n",
       " 'aaverage': 1,\n",
       " 'aavso': 1,\n",
       " 'ab': 25,\n",
       " 'ababspalestinians': 1,\n",
       " 'abandon': 15,\n",
       " 'abandond': 1,\n",
       " 'abandoned': 24,\n",
       " 'abandoning': 2,\n",
       " 'abandons': 1,\n",
       " 'abatement': 1,\n",
       " 'abates': 1,\n",
       " 'abba': 1,\n",
       " 'abbasids': 1,\n",
       " 'abberant': 1,\n",
       " 'abberation': 1,\n",
       " 'abbey': 5,\n",
       " 'abbie': 1,\n",
       " 'abbot': 1,\n",
       " 'abbott': 5,\n",
       " 'abbotts': 1,\n",
       " 'abbreviated': 1,\n",
       " 'abbreviation': 7,\n",
       " 'abbreviations': 4,\n",
       " 'abbreviationsacronyms': 1,\n",
       " 'abc': 36,\n",
       " 'abccpurdueedu': 1,\n",
       " 'abcdef': 1,\n",
       " 'abcom': 1,\n",
       " 'abcs': 2,\n",
       " 'abd': 4,\n",
       " 'abdel': 1,\n",
       " 'abdelrahems': 1,\n",
       " 'abdi': 1,\n",
       " 'abdication': 1,\n",
       " 'abdo': 1,\n",
       " 'abdomen': 3,\n",
       " 'abdomens': 1,\n",
       " 'abdominal': 3,\n",
       " 'abduct': 1,\n",
       " 'abducted': 1,\n",
       " 'abduction': 3,\n",
       " 'abdul': 3,\n",
       " 'abdulcebbar': 1,\n",
       " 'abdulhamid': 1,\n",
       " 'abdullah': 5,\n",
       " 'abdullahad': 1,\n",
       " 'abe': 1,\n",
       " 'abeit': 1,\n",
       " 'abekas': 1,\n",
       " 'aben': 2,\n",
       " 'abensberg': 1,\n",
       " 'aber': 1,\n",
       " 'aberdeen': 3,\n",
       " 'abernathy': 1,\n",
       " 'aberrant': 3,\n",
       " 'aberration': 2,\n",
       " 'aberrations': 1,\n",
       " 'abeyer': 1,\n",
       " 'abfdefghiijklmmnohpp': 1,\n",
       " 'abgarovich': 1,\n",
       " 'abhin': 1,\n",
       " 'abhor': 3,\n",
       " 'abhorent': 2,\n",
       " 'abhorred': 1,\n",
       " 'abhorrent': 2,\n",
       " 'abhout': 1,\n",
       " 'abide': 5,\n",
       " 'abides': 1,\n",
       " 'abideth': 1,\n",
       " 'abiding': 10,\n",
       " 'abig': 1,\n",
       " 'abilene': 1,\n",
       " 'abilities': 17,\n",
       " 'ability': 154,\n",
       " 'abiliy': 1,\n",
       " 'abingdon': 1,\n",
       " 'abington': 1,\n",
       " 'abiogenesis': 2,\n",
       " 'abkect': 1,\n",
       " 'abkhazia': 1,\n",
       " 'ablazing': 1,\n",
       " 'able': 596,\n",
       " 'ablebodied': 2,\n",
       " 'ables': 1,\n",
       " 'ablility': 1,\n",
       " 'ably': 2,\n",
       " 'abnamro': 1,\n",
       " 'abner': 1,\n",
       " 'abnormal': 6,\n",
       " 'abnormalities': 4,\n",
       " 'abnormally': 1,\n",
       " 'aboard': 9,\n",
       " 'aboce': 1,\n",
       " 'abode': 7,\n",
       " 'abodes': 1,\n",
       " 'aboid': 1,\n",
       " 'abolish': 14,\n",
       " 'abolished': 10,\n",
       " 'abolishing': 1,\n",
       " 'abolishment': 2,\n",
       " 'abolition': 2,\n",
       " 'abolitionist': 2,\n",
       " 'abolitionists': 1,\n",
       " 'abomb': 3,\n",
       " 'abombs': 1,\n",
       " 'abominable': 3,\n",
       " 'abomination': 5,\n",
       " 'abominations': 5,\n",
       " 'abord': 1,\n",
       " 'abort': 10,\n",
       " 'aborted': 6,\n",
       " 'abortion': 24,\n",
       " 'abortionlaw': 1,\n",
       " 'abortions': 4,\n",
       " 'aborts': 1,\n",
       " 'abotu': 1,\n",
       " 'abou': 1,\n",
       " 'abound': 8,\n",
       " 'abounded': 1,\n",
       " 'abounds': 1,\n",
       " 'abousunsoeclarksonedu': 1,\n",
       " 'about': 3043,\n",
       " 'above': 527,\n",
       " 'abovementioned': 6,\n",
       " 'abovequoted': 1,\n",
       " 'abp': 1,\n",
       " 'abput': 1,\n",
       " 'abraam': 1,\n",
       " 'abraham': 17,\n",
       " 'abrahamic': 1,\n",
       " 'abrahams': 4,\n",
       " 'abram': 1,\n",
       " 'abramyan': 1,\n",
       " 'abrasions': 1,\n",
       " 'abrasives': 1,\n",
       " 'abreast': 1,\n",
       " 'abridge': 2,\n",
       " 'abridged': 6,\n",
       " 'abridgement': 1,\n",
       " 'abridgements': 1,\n",
       " 'abridging': 2,\n",
       " 'abridgment': 1,\n",
       " 'abroad': 17,\n",
       " 'abrogation': 1,\n",
       " 'abrupt': 2,\n",
       " 'abruptly': 8,\n",
       " 'abs': 18,\n",
       " 'absair': 1,\n",
       " 'abscence': 2,\n",
       " 'abscess': 1,\n",
       " 'absence': 35,\n",
       " 'absences': 1,\n",
       " 'absense': 2,\n",
       " 'absent': 14,\n",
       " 'absentee': 1,\n",
       " 'absentmindedly': 1,\n",
       " 'absequipped': 1,\n",
       " 'absolabsolcomrsbpanixcom': 1,\n",
       " 'absolut': 2,\n",
       " 'absolute': 82,\n",
       " 'absolutely': 138,\n",
       " 'absoluteprimodick': 1,\n",
       " 'absoluterelative': 1,\n",
       " 'absolutes': 10,\n",
       " 'absolutey': 1,\n",
       " 'absolutism': 2,\n",
       " 'absolutist': 6,\n",
       " 'absolutists': 1,\n",
       " 'absolve': 1,\n",
       " 'absolving': 1,\n",
       " 'absood': 2,\n",
       " 'absorb': 8,\n",
       " 'absorbed': 6,\n",
       " 'absorber': 2,\n",
       " 'absorbers': 1,\n",
       " 'absorbing': 5,\n",
       " 'absorbs': 1,\n",
       " 'absorbtion': 2,\n",
       " 'absorption': 6,\n",
       " 'absorptionlike': 1,\n",
       " 'absoultly': 1,\n",
       " 'abstact': 3,\n",
       " 'abstacted': 1,\n",
       " 'abstain': 2,\n",
       " 'abstinence': 5,\n",
       " 'abstinenceeducation': 1,\n",
       " 'abstinencerelated': 1,\n",
       " 'abstract': 29,\n",
       " 'abstractdescription': 1,\n",
       " 'abstraction': 6,\n",
       " 'abstractions': 2,\n",
       " 'abstracts': 10,\n",
       " 'absurb': 1,\n",
       " 'absurd': 29,\n",
       " 'absurdities': 1,\n",
       " 'absurdity': 11,\n",
       " 'absurdly': 1,\n",
       " 'absurdum': 1,\n",
       " 'absx': 1,\n",
       " 'absy': 1,\n",
       " 'abt': 2,\n",
       " 'abtddc': 1,\n",
       " 'abu': 4,\n",
       " 'abuealyan': 1,\n",
       " 'abuhajras': 1,\n",
       " 'abujamea': 1,\n",
       " 'abumostafa': 1,\n",
       " 'abundance': 4,\n",
       " 'abundant': 8,\n",
       " 'abundantill': 1,\n",
       " 'abundantly': 2,\n",
       " 'abuot': 1,\n",
       " 'abus': 1,\n",
       " 'abusalim': 1,\n",
       " 'abuse': 61,\n",
       " 'abused': 18,\n",
       " 'abusepeople': 1,\n",
       " 'abuser': 3,\n",
       " 'abusers': 4,\n",
       " 'abuses': 21,\n",
       " 'abusing': 7,\n",
       " 'abusive': 11,\n",
       " 'abutahas': 1,\n",
       " 'abutment': 1,\n",
       " 'abuzabal': 1,\n",
       " 'abve': 1,\n",
       " 'aby': 1,\n",
       " 'abyss': 7,\n",
       " 'abyte': 1,\n",
       " 'ac': 65,\n",
       " 'aca': 1,\n",
       " 'acad': 3,\n",
       " 'acadamia': 2,\n",
       " 'acadamy': 1,\n",
       " 'academe': 1,\n",
       " 'academia': 12,\n",
       " 'academiabias': 1,\n",
       " 'academiae': 1,\n",
       " 'academic': 28,\n",
       " 'academically': 3,\n",
       " 'academician': 1,\n",
       " 'academiclikes': 1,\n",
       " 'academicpolicies': 1,\n",
       " 'academics': 10,\n",
       " 'academies': 1,\n",
       " 'academy': 15,\n",
       " 'acadfreedompolicies': 1,\n",
       " 'acadia': 1,\n",
       " 'acadien': 2,\n",
       " 'acc': 3,\n",
       " 'accasterixinescnpt': 1,\n",
       " 'accede': 2,\n",
       " 'accel': 4,\n",
       " 'accelaration': 1,\n",
       " 'accelarator': 1,\n",
       " 'accelaratores': 1,\n",
       " 'accelartor': 1,\n",
       " 'acceleartion': 1,\n",
       " 'accelerate': 17,\n",
       " 'accelerated': 18,\n",
       " 'accelerates': 2,\n",
       " 'accelerating': 8,\n",
       " 'acceleration': 18,\n",
       " 'accelerations': 3,\n",
       " 'accelerationwise': 1,\n",
       " 'accelerator': 37,\n",
       " 'acceleratorgraphics': 1,\n",
       " 'accelerators': 14,\n",
       " 'acceleratorvideo': 1,\n",
       " 'accellerated': 2,\n",
       " 'accelleration': 2,\n",
       " 'accellerator': 2,\n",
       " 'accent': 3,\n",
       " 'accented': 1,\n",
       " 'accentuate': 1,\n",
       " 'accentuates': 1,\n",
       " 'accept': 223,\n",
       " 'acceptabe': 1,\n",
       " 'acceptable': 88,\n",
       " 'acceptably': 2,\n",
       " 'acceptance': 32,\n",
       " 'accepted': 129,\n",
       " 'acceptible': 1,\n",
       " 'accepting': 38,\n",
       " 'accepts': 21,\n",
       " 'acces': 1,\n",
       " 'accesible': 1,\n",
       " 'accesing': 1,\n",
       " 'accesories': 1,\n",
       " 'access': 296,\n",
       " 'accessability': 1,\n",
       " 'accessable': 6,\n",
       " 'accessaries': 1,\n",
       " 'accessbus': 1,\n",
       " 'accessdata': 1,\n",
       " 'accessed': 21,\n",
       " 'accesses': 8,\n",
       " 'accessibility': 2,\n",
       " 'accessible': 22,\n",
       " 'accessing': 10,\n",
       " 'accession': 1,\n",
       " 'accessno': 1,\n",
       " 'accessories': 21,\n",
       " 'accessory': 7,\n",
       " 'accesss': 2,\n",
       " 'accesssories': 1,\n",
       " 'accessthats': 1,\n",
       " 'accessvisamastercard': 3,\n",
       " 'accessyou': 1,\n",
       " 'accid': 1,\n",
       " 'accident': 62,\n",
       " 'accidental': 22,\n",
       " 'accidentally': 17,\n",
       " 'accidentaly': 1,\n",
       " 'accidenthealth': 1,\n",
       " 'accidentinvolved': 1,\n",
       " 'accidentit': 1,\n",
       " 'accidently': 6,\n",
       " 'accidentprone': 1,\n",
       " 'accidents': 25,\n",
       " 'acclaimed': 1,\n",
       " 'acclaims': 1,\n",
       " 'acclimate': 1,\n",
       " 'acclimated': 2,\n",
       " 'acclimatize': 1,\n",
       " 'acclimitazation': 1,\n",
       " 'accolade': 3,\n",
       " 'accom': 1,\n",
       " 'accomazzi': 1,\n",
       " 'accommodate': 13,\n",
       " 'accommodated': 1,\n",
       " 'accommodates': 5,\n",
       " 'accommodation': 1,\n",
       " 'accommodations': 2,\n",
       " 'accomodate': 10,\n",
       " 'accomodated': 1,\n",
       " 'accomodating': 3,\n",
       " 'accomodation': 4,\n",
       " 'accomodations': 1,\n",
       " 'accompanied': 19,\n",
       " 'accompanies': 1,\n",
       " 'accompany': 4,\n",
       " 'accompanying': 17,\n",
       " 'accompli': 2,\n",
       " 'accomplice': 2,\n",
       " 'accomplis': 3,\n",
       " 'accomplish': 30,\n",
       " 'accomplished': 33,\n",
       " 'accomplishes': 2,\n",
       " 'accomplishing': 4,\n",
       " 'accomplishment': 3,\n",
       " 'accomplishments': 4,\n",
       " 'accoountable': 1,\n",
       " 'accor': 2,\n",
       " 'accord': 17,\n",
       " 'accordance': 14,\n",
       " 'accorded': 4,\n",
       " 'according': 238,\n",
       " 'accordingly': 8,\n",
       " 'accordiong': 1,\n",
       " 'accords': 1,\n",
       " 'accosted': 1,\n",
       " 'accosts': 1,\n",
       " 'account': 131,\n",
       " 'accountability': 10,\n",
       " 'accountable': 11,\n",
       " 'accountant': 1,\n",
       " 'accountants': 1,\n",
       " 'accounted': 8,\n",
       " 'accounting': 17,\n",
       " 'accountmy': 1,\n",
       " 'accounts': 64,\n",
       " 'accpakexe': 1,\n",
       " 'accpeted': 1,\n",
       " 'accredit': 1,\n",
       " 'accreditation': 2,\n",
       " 'accredited': 3,\n",
       " 'accretie': 1,\n",
       " 'accretieschijven': 1,\n",
       " 'accretion': 1,\n",
       " 'accrodingly': 1,\n",
       " 'accross': 3,\n",
       " 'accrue': 1,\n",
       " 'accrued': 1,\n",
       " 'accruing': 1,\n",
       " 'accsys': 1,\n",
       " 'accton': 1,\n",
       " 'accuartely': 1,\n",
       " 'accuate': 1,\n",
       " 'accucolor': 2,\n",
       " 'accucorp': 1,\n",
       " 'accufont': 1,\n",
       " 'accuire': 1,\n",
       " 'accukey': 1,\n",
       " 'acculogic': 1,\n",
       " 'accummulate': 1,\n",
       " 'accumulate': 7,\n",
       " 'accumulated': 7,\n",
       " 'accumulates': 1,\n",
       " 'accumulating': 1,\n",
       " 'accumulation': 3,\n",
       " 'accupuncture': 1,\n",
       " 'accupuntunce': 1,\n",
       " 'accuracies': 2,\n",
       " 'accuracy': 32,\n",
       " 'accuracyofprediction': 1,\n",
       " 'accurate': 105,\n",
       " 'accurately': 19,\n",
       " 'accusation': 11,\n",
       " 'accusations': 13,\n",
       " 'accusative': 1,\n",
       " 'accuse': 20,\n",
       " 'accused': 31,\n",
       " 'accusers': 1,\n",
       " 'accuses': 5,\n",
       " 'accusing': 8,\n",
       " 'accusors': 1,\n",
       " 'accussations': 4,\n",
       " 'accussed': 1,\n",
       " 'accustomed': 6,\n",
       " 'accutane': 1,\n",
       " 'accutrak': 1,\n",
       " 'acdc': 3,\n",
       " 'acdis': 1,\n",
       " 'ace': 9,\n",
       " 'acegr': 2,\n",
       " 'aceh': 1,\n",
       " 'acelerators': 1,\n",
       " 'acem': 1,\n",
       " 'acepting': 1,\n",
       " 'acer': 3,\n",
       " 'aces': 1,\n",
       " 'acessing': 1,\n",
       " 'acetate': 2,\n",
       " 'acetic': 1,\n",
       " 'acetominophen': 1,\n",
       " 'acetylene': 1,\n",
       " 'achaemenid': 1,\n",
       " 'achaeminid': 1,\n",
       " 'achamed': 1,\n",
       " 'ache': 4,\n",
       " 'acheamenids': 1,\n",
       " 'acheive': 2,\n",
       " 'acheived': 2,\n",
       " 'aches': 1,\n",
       " 'achesback': 1,\n",
       " 'achieva': 1,\n",
       " 'achieve': 43,\n",
       " 'achieved': 34,\n",
       " 'achievement': 8,\n",
       " 'achievements': 6,\n",
       " 'achieves': 4,\n",
       " 'achieving': 8,\n",
       " 'achille': 1,\n",
       " 'achilles': 1,\n",
       " 'achim': 1,\n",
       " 'aching': 1,\n",
       " 'achive': 1,\n",
       " 'achived': 1,\n",
       " 'achkar': 1,\n",
       " 'achses': 1,\n",
       " 'achtung': 2,\n",
       " 'acid': 29,\n",
       " 'acidacrylonitrile': 1,\n",
       " 'aciddamino': 1,\n",
       " 'acidic': 2,\n",
       " 'acidophilis': 1,\n",
       " 'acidophilius': 1,\n",
       " 'acidophilous': 2,\n",
       " 'acidophilus': 5,\n",
       " 'acids': 9,\n",
       " 'acifuentislugapuccl': 1,\n",
       " 'acis': 1,\n",
       " 'ack': 7,\n",
       " 'acker': 1,\n",
       " 'acknosledge': 1,\n",
       " 'acknowledge': 36,\n",
       " 'acknowledged': 22,\n",
       " 'acknowledgement': 8,\n",
       " 'acknowledgements': 1,\n",
       " 'acknowledges': 7,\n",
       " 'acknowledging': 3,\n",
       " 'acknowledgment': 3,\n",
       " 'acknowleding': 2,\n",
       " 'acknowleged': 1,\n",
       " 'acknowlegement': 1,\n",
       " 'ackpeople': 1,\n",
       " 'aclimation': 1,\n",
       " 'aclimatized': 1,\n",
       " 'aclj': 1,\n",
       " 'aclu': 18,\n",
       " 'aclus': 2,\n",
       " 'acm': 17,\n",
       " 'acme': 1,\n",
       " 'acmes': 1,\n",
       " 'acmsiggraph': 1,\n",
       " 'acn': 2,\n",
       " 'acne': 4,\n",
       " 'acollinsuclinkberkeleyedu': 1,\n",
       " 'acoopermacalstredu': 1,\n",
       " 'acording': 1,\n",
       " 'acorn': 6,\n",
       " 'acoustic': 4,\n",
       " 'acoustical': 1,\n",
       " 'acquaint': 2,\n",
       " 'acquaintance': 6,\n",
       " 'acquaintances': 4,\n",
       " 'acquainted': 4,\n",
       " 'acquiescence': 1,\n",
       " 'acquiescent': 1,\n",
       " 'acquiescing': 1,\n",
       " 'acquire': 29,\n",
       " 'acquired': 25,\n",
       " 'acquires': 2,\n",
       " 'acquiring': 10,\n",
       " 'acquisition': 11,\n",
       " 'acquisitioncontrol': 1,\n",
       " 'acquisitions': 3,\n",
       " 'acquistion': 1,\n",
       " 'acquittal': 1,\n",
       " 'acquittals': 1,\n",
       " 'acquitted': 2,\n",
       " 'acre': 1,\n",
       " 'acreage': 1,\n",
       " 'acres': 1,\n",
       " 'acrid': 2,\n",
       " 'acro': 1,\n",
       " 'acrobatics': 1,\n",
       " 'acrokey': 1,\n",
       " 'acronym': 10,\n",
       " 'acronyms': 2,\n",
       " 'acronynm': 1,\n",
       " 'across': 184,\n",
       " 'acrossed': 1,\n",
       " 'acrossthebench': 1,\n",
       " 'acrosstheboard': 2,\n",
       " 'acrv': 2,\n",
       " 'acs': 2,\n",
       " 'acscpsmsuedu': 1,\n",
       " 'acsnet': 2,\n",
       " 'acsuiucedu': 3,\n",
       " 'act': 203,\n",
       " 'actaual': 1,\n",
       " 'acted': 18,\n",
       " 'actg': 1,\n",
       " 'acting': 48,\n",
       " 'actinide': 1,\n",
       " 'action': 190,\n",
       " 'actionas': 1,\n",
       " 'actionbased': 1,\n",
       " 'actionguiding': 1,\n",
       " 'actionm': 1,\n",
       " 'actions': 140,\n",
       " 'activa': 1,\n",
       " 'activate': 5,\n",
       " 'activated': 13,\n",
       " 'activating': 3,\n",
       " 'activation': 4,\n",
       " 'active': 92,\n",
       " 'activeetc': 1,\n",
       " 'actively': 36,\n",
       " 'activism': 1,\n",
       " 'activist': 5,\n",
       " 'activistinterestresearch': 2,\n",
       " 'activists': 16,\n",
       " 'activiteiten': 1,\n",
       " 'activites': 1,\n",
       " 'activities': 92,\n",
       " 'activitiesall': 1,\n",
       " 'activitiests': 1,\n",
       " 'activity': 87,\n",
       " 'activly': 1,\n",
       " 'actix': 4,\n",
       " 'acton': 7,\n",
       " 'actonbrown': 1,\n",
       " 'actor': 1,\n",
       " 'actors': 3,\n",
       " 'actress': 1,\n",
       " 'acts': 113,\n",
       " 'actseffective': 1,\n",
       " 'actu': 1,\n",
       " 'actual': 143,\n",
       " 'actualformat': 1,\n",
       " 'actuality': 3,\n",
       " 'actuallay': 1,\n",
       " 'actually': 683,\n",
       " 'actualtype': 1,\n",
       " 'actualy': 4,\n",
       " 'actuarial': 2,\n",
       " 'actuarials': 1,\n",
       " 'actuaries': 1,\n",
       " 'actuated': 1,\n",
       " 'actuation': 1,\n",
       " 'actuator': 2,\n",
       " 'actuelles': 1,\n",
       " 'actup': 1,\n",
       " 'actupnew': 1,\n",
       " 'acu': 1,\n",
       " 'acuity': 2,\n",
       " 'acupuncture': 5,\n",
       " 'acupuncturist': 2,\n",
       " 'acupuncturistnot': 1,\n",
       " 'acupuncturists': 1,\n",
       " 'acura': 5,\n",
       " 'acurate': 1,\n",
       " 'acurcio': 1,\n",
       " 'acurracy': 1,\n",
       " 'acutally': 6,\n",
       " 'acute': 17,\n",
       " 'acutechronic': 1,\n",
       " 'acutely': 2,\n",
       " 'acuuracy': 1,\n",
       " 'acwise': 1,\n",
       " 'acyclovir': 3,\n",
       " 'ad': 105,\n",
       " 'ada': 4,\n",
       " 'adabas': 1,\n",
       " 'adage': 1,\n",
       " 'adalet': 1,\n",
       " 'adam': 57,\n",
       " 'adamantly': 2,\n",
       " 'adambgarfieldcsmunca': 1,\n",
       " 'adamcreighton': 2,\n",
       " 'adamdasharvardedu': 19,\n",
       " 'adameves': 1,\n",
       " 'adamgraves': 2,\n",
       " 'adamian': 1,\n",
       " 'adamoates': 2,\n",
       " 'adamof': 1,\n",
       " 'adamotif': 1,\n",
       " 'adampaixswstratuscom': 1,\n",
       " 'adams': 59,\n",
       " 'adana': 3,\n",
       " 'adapt': 10,\n",
       " 'adaptability': 1,\n",
       " 'adaptable': 1,\n",
       " 'adaptabtion': 1,\n",
       " 'adaptation': 5,\n",
       " 'adaptations': 1,\n",
       " 'adaptec': 17,\n",
       " 'adaptecs': 1,\n",
       " 'adaptectosh': 1,\n",
       " 'adaptectxt': 1,\n",
       " 'adapted': 15,\n",
       " 'adapter': 60,\n",
       " 'adapters': 21,\n",
       " 'adapting': 4,\n",
       " 'adaption': 1,\n",
       " 'adaptiove': 1,\n",
       " 'adaptive': 1,\n",
       " 'adaptor': 20,\n",
       " 'adaptorbattery': 3,\n",
       " 'adaptors': 1,\n",
       " 'adaptort': 1,\n",
       " 'adaquate': 1,\n",
       " 'adasoft': 1,\n",
       " 'adavantage': 1,\n",
       " 'adax': 1,\n",
       " 'adb': 17,\n",
       " 'adbs': 1,\n",
       " 'adc': 7,\n",
       " 'adcatde': 1,\n",
       " 'adcom': 5,\n",
       " 'adcoms': 1,\n",
       " 'adconverter': 2,\n",
       " 'add': 278,\n",
       " 'adda': 2,\n",
       " 'addandmultiply': 1,\n",
       " 'adddrop': 1,\n",
       " 'added': 134,\n",
       " 'addedcall': 1,\n",
       " 'addendum': 3,\n",
       " 'addict': 5,\n",
       " 'addicted': 5,\n",
       " 'addiction': 4,\n",
       " 'addictive': 5,\n",
       " 'addicts': 5,\n",
       " 'addin': 2,\n",
       " 'adding': 63,\n",
       " 'addison': 4,\n",
       " 'addisonwesley': 4,\n",
       " 'additinol': 1,\n",
       " 'addition': 158,\n",
       " 'additional': 135,\n",
       " 'additionally': 21,\n",
       " 'additionmultiplication': 1,\n",
       " 'additions': 20,\n",
       " 'additionscorrectionssuggestions': 1,\n",
       " 'additive': 9,\n",
       " 'additives': 8,\n",
       " 'additivity': 1,\n",
       " 'additonal': 1,\n",
       " 'additonally': 1,\n",
       " 'addon': 5,\n",
       " 'addons': 3,\n",
       " 'addr': 6,\n",
       " 'address': 347,\n",
       " 'addressa': 1,\n",
       " 'addressable': 5,\n",
       " 'addressapplelinkapplecom': 1,\n",
       " 'addressbut': 1,\n",
       " 'addressdata': 1,\n",
       " 'addressed': 43,\n",
       " 'addressedlack': 1,\n",
       " 'addresses': 71,\n",
       " 'addressing': 41,\n",
       " 'addressphone': 3,\n",
       " 'addresss': 1,\n",
       " 'addressseattle': 1,\n",
       " 'addressspace': 1,\n",
       " 'addressvancouver': 1,\n",
       " 'addreww': 1,\n",
       " 'addrs': 4,\n",
       " 'adds': 29,\n",
       " 'addtech': 1,\n",
       " 'addwindowo': 1,\n",
       " 'ade': 1,\n",
       " 'adelaide': 2,\n",
       " 'adelson': 1,\n",
       " 'aden': 2,\n",
       " 'adeno': 1,\n",
       " 'adenomas': 1,\n",
       " 'adeos': 1,\n",
       " 'adeospolder': 1,\n",
       " 'adept': 4,\n",
       " 'adepts': 1,\n",
       " 'adequate': 43,\n",
       " 'adequately': 18,\n",
       " 'adequete': 1,\n",
       " 'adfrf': 1,\n",
       " 'adg': 2,\n",
       " 'adhere': 7,\n",
       " 'adherence': 5,\n",
       " 'adherent': 1,\n",
       " 'adherents': 5,\n",
       " 'adheres': 1,\n",
       " 'adhering': 3,\n",
       " 'adhesion': 3,\n",
       " 'adhesive': 2,\n",
       " 'adhessives': 1,\n",
       " 'adhiyate': 1,\n",
       " 'adi': 3,\n",
       " 'adiministering': 1,\n",
       " 'adios': 2,\n",
       " 'adiposity': 2,\n",
       " 'adirondack': 6,\n",
       " 'adirondackok': 1,\n",
       " 'adisak': 1,\n",
       " 'aditives': 1,\n",
       " 'adj': 7,\n",
       " 'adjacent': 8,\n",
       " 'adjective': 9,\n",
       " 'adjoining': 3,\n",
       " 'adjourned': 2,\n",
       " 'adjudicate': 1,\n",
       " 'adjuration': 1,\n",
       " 'adjust': 28,\n",
       " 'adjustability': 1,\n",
       " 'adjustable': 15,\n",
       " 'adjusted': 16,\n",
       " 'adjusters': 1,\n",
       " 'adjusting': 10,\n",
       " 'adjustment': 14,\n",
       " 'adjustments': 9,\n",
       " 'adjusts': 4,\n",
       " 'adjutant': 1,\n",
       " 'adjuvant': 1,\n",
       " 'adjuvants': 1,\n",
       " 'adkins': 1,\n",
       " 'adl': 11,\n",
       " 'adleman': 3,\n",
       " 'adler': 1,\n",
       " 'adlib': 2,\n",
       " 'adlibsound': 1,\n",
       " 'adls': 2,\n",
       " 'adm': 1,\n",
       " 'admans': 1,\n",
       " 'admendment': 1,\n",
       " 'admin': 8,\n",
       " 'adminanonpenetfi': 1,\n",
       " 'administer': 7,\n",
       " 'administered': 9,\n",
       " 'administering': 4,\n",
       " 'administers': 1,\n",
       " 'administration': 114,\n",
       " 'administrationit': 1,\n",
       " 'administrationk': 1,\n",
       " 'administrations': 20,\n",
       " 'administrative': 23,\n",
       " 'administrativefunctional': 1,\n",
       " 'administratively': 1,\n",
       " 'administrator': 33,\n",
       " 'administrators': 6,\n",
       " 'administrivia': 2,\n",
       " 'admins': 3,\n",
       " 'adminstration': 3,\n",
       " 'adminstrator': 2,\n",
       " 'adminstrators': 3,\n",
       " 'admirable': 1,\n",
       " 'admiral': 5,\n",
       " 'admirals': 4,\n",
       " 'admiralty': 1,\n",
       " 'admiration': 4,\n",
       " 'admire': 9,\n",
       " 'admired': 2,\n",
       " 'admirer': 1,\n",
       " 'admires': 1,\n",
       " 'admiring': 1,\n",
       " 'admissible': 5,\n",
       " 'admission': 9,\n",
       " 'admissions': 5,\n",
       " 'admist': 1,\n",
       " 'admistration': 4,\n",
       " 'admit': 123,\n",
       " 'admits': 10,\n",
       " 'admittdly': 1,\n",
       " 'admitted': 41,\n",
       " 'admittedly': 23,\n",
       " 'admittely': 1,\n",
       " 'admitting': 14,\n",
       " 'admonish': 3,\n",
       " 'admonished': 2,\n",
       " 'admonishing': 1,\n",
       " 'admonishment': 1,\n",
       " 'admonition': 3,\n",
       " 'admonitions': 2,\n",
       " 'adn': 1,\n",
       " 'adnd': 1,\n",
       " 'adnt': 2,\n",
       " 'ado': 1,\n",
       " 'adobe': 20,\n",
       " 'adobedpsextension': 1,\n",
       " 'adobes': 1,\n",
       " 'adolescence': 2,\n",
       " 'adolescent': 6,\n",
       " 'adolescents': 3,\n",
       " 'adolf': 10,\n",
       " 'adolph': 1,\n",
       " 'adonais': 1,\n",
       " 'adoni': 1,\n",
       " 'adopt': 25,\n",
       " 'adopted': 24,\n",
       " 'adopting': 6,\n",
       " 'adoption': 7,\n",
       " 'adoptionism': 1,\n",
       " 'adoptive': 1,\n",
       " 'adopts': 3,\n",
       " 'ador': 1,\n",
       " 'adorn': 2,\n",
       " 'adornato': 1,\n",
       " 'adornment': 1,\n",
       " 'adpro': 1,\n",
       " 'adrenal': 3,\n",
       " 'adrenaline': 3,\n",
       " 'adrenalizing': 1,\n",
       " 'adress': 10,\n",
       " 'adressed': 2,\n",
       " 'adresses': 5,\n",
       " 'adressing': 1,\n",
       " 'adrg': 1,\n",
       " 'adrgzip': 1,\n",
       " 'adriaansen': 1,\n",
       " 'adrian': 8,\n",
       " 'adriana': 1,\n",
       " 'adrianoracom': 3,\n",
       " 'adriatic': 1,\n",
       " 'adrienne': 2,\n",
       " 'adrift': 2,\n",
       " 'ads': 30,\n",
       " 'adscuadscoloraduedu': 1,\n",
       " 'adshead': 1,\n",
       " 'adsl': 1,\n",
       " 'adsorbent': 1,\n",
       " 'adsorption': 1,\n",
       " 'adsp': 1,\n",
       " 'adsr': 1,\n",
       " 'adsyou': 1,\n",
       " 'adt': 1,\n",
       " 'adue': 1,\n",
       " 'adujustable': 1,\n",
       " 'adulation': 1,\n",
       " 'adult': 26,\n",
       " 'adulterants': 1,\n",
       " 'adulteration': 1,\n",
       " 'adulteries': 1,\n",
       " 'adulterous': 2,\n",
       " 'adultery': 5,\n",
       " 'adultreported': 1,\n",
       " 'adultress': 1,\n",
       " 'adultry': 1,\n",
       " 'adults': 27,\n",
       " 'aduz': 1,\n",
       " 'adv': 1,\n",
       " 'advacne': 1,\n",
       " 'advanage': 1,\n",
       " 'advance': 350,\n",
       " 'advanced': 83,\n",
       " 'advancement': 13,\n",
       " 'advancements': 3,\n",
       " 'advances': 20,\n",
       " 'advancing': 5,\n",
       " 'advantage': 110,\n",
       " 'advantageous': 3,\n",
       " 'advantages': 33,\n",
       " 'advantate': 1,\n",
       " 'advathanksnce': 1,\n",
       " 'advent': 6,\n",
       " 'adventist': 1,\n",
       " 'adventists': 4,\n",
       " 'adventure': 9,\n",
       " 'adventuremystery': 1,\n",
       " 'adventurer': 2,\n",
       " 'adventurers': 1,\n",
       " 'adventures': 11,\n",
       " 'adventureseastern': 1,\n",
       " 'adventurespy': 1,\n",
       " 'adventurous': 2,\n",
       " 'adversaries': 2,\n",
       " 'adversary': 3,\n",
       " 'adverse': 10,\n",
       " 'adversely': 5,\n",
       " 'adversizements': 1,\n",
       " 'advert': 5,\n",
       " 'advertentie': 1,\n",
       " 'adverteren': 1,\n",
       " 'advertise': 13,\n",
       " 'advertised': 22,\n",
       " 'advertisement': 8,\n",
       " 'advertisements': 7,\n",
       " 'advertisemnets': 1,\n",
       " 'advertiser': 3,\n",
       " 'advertisers': 5,\n",
       " 'advertises': 3,\n",
       " 'advertising': 32,\n",
       " 'advertisment': 1,\n",
       " 'advertisments': 1,\n",
       " 'adverts': 3,\n",
       " 'advetised': 1,\n",
       " 'advice': 139,\n",
       " 'advicecomments': 1,\n",
       " 'adviceinfo': 1,\n",
       " 'advirtisement': 1,\n",
       " 'advisability': 1,\n",
       " 'advisable': 2,\n",
       " 'advise': 19,\n",
       " 'advised': 16,\n",
       " 'advisedly': 1,\n",
       " 'adviser': 1,\n",
       " 'advisers': 3,\n",
       " 'advises': 2,\n",
       " 'advising': 4,\n",
       " 'advisor': 6,\n",
       " 'advisories': 1,\n",
       " 'advisors': 6,\n",
       " 'advisory': 11,\n",
       " 'advocacy': 8,\n",
       " 'advocate': 34,\n",
       " 'advocated': 10,\n",
       " 'advocates': 20,\n",
       " ...}"
      ]
     },
     "execution_count": 9,
     "metadata": {},
     "output_type": "execute_result"
    }
   ],
   "source": [
    "# Create a dictionary containing the frequency of words utilizing the 'frequency_dict' function\n",
    "\n",
    "# Expect this chunk to take a comparatively longer time to execute since our dataset is large\n",
    "\n",
    "freq_word = frequency_dict(lines)\n",
    "\n",
    "freq_word"
   ]
  },
  {
   "cell_type": "code",
   "execution_count": 10,
   "metadata": {
    "ExecuteTime": {
     "end_time": "2022-06-20T00:09:56.039523Z",
     "start_time": "2022-06-20T00:09:56.024519Z"
    },
    "id": "vLvPijR_GKHn"
   },
   "outputs": [],
   "source": [
    "# Create a function to calculate the Term Frequency\n",
    "\n",
    "def term_frequency(document, word):\n",
    "    '''\n",
    "    document: list containing the entire corpus\n",
    "    word: word whose term frequency is to be calculated\n",
    "    ---\n",
    "    tf: returns term frequency value\n",
    "    '''\n",
    "    \n",
    "    n = len(document)\n",
    "    occ = 0\n",
    "    \n",
    "    for w in document:\n",
    "        if w == word:\n",
    "            occ += 1\n",
    "            \n",
    "    tf = occ/n\n",
    "    \n",
    "    return tf"
   ]
  },
  {
   "cell_type": "code",
   "execution_count": 11,
   "metadata": {
    "ExecuteTime": {
     "end_time": "2022-06-20T00:09:56.055527Z",
     "start_time": "2022-06-20T00:09:56.040523Z"
    },
    "id": "HA99G_yAGLCC"
   },
   "outputs": [],
   "source": [
    "# Create a function to calculate the Inverse Document Frequency\n",
    " \n",
    "def inverse_df(word):\n",
    "    '''\n",
    "    word: word whose inverse document frequency is to be calculated\n",
    "    ---\n",
    "    idf: return inverse document frequency value\n",
    "    '''\n",
    "    \n",
    "    idf = np.log(total_docs/freq_word[word]+1)\n",
    "    \n",
    "    return idf"
   ]
  },
  {
   "cell_type": "code",
   "execution_count": 12,
   "metadata": {
    "ExecuteTime": {
     "end_time": "2022-06-20T00:09:56.071530Z",
     "start_time": "2022-06-20T00:09:56.057527Z"
    },
    "id": "F0irgwv2GRfE"
   },
   "outputs": [],
   "source": [
    "#Create a function to combine the term frequencies (TF) and inverse document (IDF) frequencies calculated above to get TF-IDF\n",
    "\n",
    "def tfidf(sentence, dict_idx):\n",
    "    '''\n",
    "    sentence: list containing the entire corpus\n",
    "    dict: dictionary keeping track of index of each word\n",
    "    ---\n",
    "    tf_idf_vec: returns computed tf-idf\n",
    "    '''\n",
    "    \n",
    "    n= len(dict_idx)\n",
    "    tf_idf_vec = np.zeros(n)\n",
    "    \n",
    "    for w in sentence:\n",
    "        tf = term_frequency(sentence, w)\n",
    "        idf = inverse_df(w)\n",
    "\n",
    "        tf_idf_vec[dict_idx[w]] = tf*idf\n",
    "    \n",
    "    return tf_idf_vec"
   ]
  },
  {
   "cell_type": "code",
   "execution_count": 13,
   "metadata": {
    "ExecuteTime": {
     "end_time": "2022-06-20T00:11:06.677416Z",
     "start_time": "2022-06-20T00:09:56.072530Z"
    },
    "id": "_VKJhqatGWpV",
    "scrolled": false
   },
   "outputs": [],
   "source": [
    "#Compute the vectors utilizing the 'tfidf' function created above to obtain a TF-IDF Encoded text corpus\n",
    "\n",
    "vectors = []\n",
    "\n",
    "for line in lines:\n",
    "    v = tfidf(line, dict_idx)\n",
    "    vectors.append(v)\n"
   ]
  },
  {
   "cell_type": "markdown",
   "metadata": {
    "id": "LE0UGUaSGb8I"
   },
   "source": [
    "## Multinomial Naive Bayes (10 Points)"
   ]
  },
  {
   "cell_type": "code",
   "execution_count": 16,
   "metadata": {
    "ExecuteTime": {
     "end_time": "2022-06-20T00:13:35.200809Z",
     "start_time": "2022-06-20T00:12:30.559146Z"
    },
    "id": "yWYcxrdJGfDC"
   },
   "outputs": [
    {
     "data": {
      "text/plain": [
       "MultinomialNB(alpha=0.01)"
      ]
     },
     "execution_count": 16,
     "metadata": {},
     "output_type": "execute_result"
    }
   ],
   "source": [
    "from sklearn.preprocessing import normalize\n",
    "\n",
    "#Fit a Multinomial Naive Bayes Model on our dataset\n",
    "\n",
    "data = normalize(vectors, axis=0, norm='max')\n",
    "clf = MultinomialNB(alpha = 0.01)\n",
    "clf.fit(data, mydata_train.target)\n"
   ]
  },
  {
   "cell_type": "code",
   "execution_count": 17,
   "metadata": {
    "ExecuteTime": {
     "end_time": "2022-06-20T00:14:05.805814Z",
     "start_time": "2022-06-20T00:13:35.204811Z"
    },
    "id": "G6CiQB4qGfqH"
   },
   "outputs": [],
   "source": [
    "#Perform testing on the train dataset\n",
    "\n",
    "pred = clf.predict(vectors)"
   ]
  },
  {
   "cell_type": "code",
   "execution_count": 18,
   "metadata": {
    "ExecuteTime": {
     "end_time": "2022-06-20T00:14:05.868406Z",
     "start_time": "2022-06-20T00:14:05.820818Z"
    },
    "id": "yCLagGu6Gh6T"
   },
   "outputs": [
    {
     "name": "stdout",
     "output_type": "stream",
     "text": [
      "F1 Score:  0.9652750848161105\n",
      "Accuracy:  0.9625243061693477\n"
     ]
    }
   ],
   "source": [
    "#Calculate the F1 Score and the Accuracy\n",
    "\n",
    "F1_score = metrics.f1_score(mydata_train.target, pred, average = 'macro')\n",
    "Accuracy = metrics.accuracy_score(mydata_train.target, pred)\n",
    "\n",
    "print(\"F1 Score: \", F1_score)\n",
    "print(\"Accuracy: \", Accuracy)"
   ]
  },
  {
   "cell_type": "markdown",
   "metadata": {
    "id": "bbMRqJv5Gl2F"
   },
   "source": [
    "### Expected Output:\n",
    "F1 Score: 0.9533633964397735\n",
    "\n",
    "Accuracy: 0.9524482941488421"
   ]
  },
  {
   "cell_type": "markdown",
   "metadata": {
    "id": "AWRDuUqU-taV"
   },
   "source": [
    "Your accuracy does not have to be exactly the same. This is just to give you an estimate of what could you expect your accuracy to be around."
   ]
  },
  {
   "cell_type": "markdown",
   "metadata": {
    "id": "UfMc8cz93Cc0"
   },
   "source": [
    "## Question 2 Vector Visualization"
   ]
  },
  {
   "cell_type": "markdown",
   "metadata": {
    "id": "70iwEeL23F7K"
   },
   "source": [
    "In this unsupervised learning task we are going to cluster wikipedia articles into groups using T-SNE visualization after vectorization."
   ]
  },
  {
   "cell_type": "markdown",
   "metadata": {
    "id": "UHx4YuxW36oM"
   },
   "source": [
    "### Collect articles from Wikipedia (10 points)\n",
    "\n",
    "In this section we will download articles from wikipedia and then vectorize them in the next step. You can select somewhat related topics or fetch the articles randomly. \n",
    "(Use dir() and help() functions or refer wikipedia documentation)\n",
    "You may also pick any other data source of your choice instead of wikipedia."
   ]
  },
  {
   "cell_type": "code",
   "execution_count": 19,
   "metadata": {
    "ExecuteTime": {
     "end_time": "2022-06-20T00:14:05.884411Z",
     "start_time": "2022-06-20T00:14:05.869406Z"
    },
    "id": "jA419x6__mjg"
   },
   "outputs": [],
   "source": [
    "# install libraries\n",
    "# pip install wikipedia"
   ]
  },
  {
   "cell_type": "code",
   "execution_count": 20,
   "metadata": {
    "ExecuteTime": {
     "end_time": "2022-06-20T00:15:00.492727Z",
     "start_time": "2022-06-20T00:14:05.887412Z"
    },
    "id": "vLMLk4K84Zbn"
   },
   "outputs": [
    {
     "name": "stderr",
     "output_type": "stream",
     "text": [
      "C:\\Users\\nahsi\\Anaconda3\\envs\\CS6120\\lib\\site-packages\\wikipedia\\wikipedia.py:389: GuessedAtParserWarning: No parser was explicitly specified, so I'm using the best available HTML parser for this system (\"lxml\"). This usually isn't a problem, but if you run this code on another system, or in a different virtual environment, it may use a different parser and behave differently.\n",
      "\n",
      "The code that caused this warning is on line 389 of the file C:\\Users\\nahsi\\Anaconda3\\envs\\CS6120\\lib\\site-packages\\wikipedia\\wikipedia.py. To get rid of this warning, pass the additional argument 'features=\"lxml\"' to the BeautifulSoup constructor.\n",
      "\n",
      "  lis = BeautifulSoup(html).find_all('li')\n"
     ]
    }
   ],
   "source": [
    "import wikipedia\n",
    "from wikipedia.exceptions import WikipediaException\n",
    "from itertools import repeat\n",
    "\n",
    "'''\n",
    " Generate a list of wikipedia article to cluster \n",
    " You can maintain a static list of titles or generate them randomly using wikipedia library\n",
    " Some topics include:\n",
    " [\"Northeastern Unversity\", \"Natural language processing\", \"Machine learning\", \"Quantum machine learning\", \"Artificial intelligence\", \"Data science\", \"Master in Data Science\", \n",
    " \"Bank of America\", \"Visa Inc.\", \"European Central Bank\", \"Bank\", \"Financial technology\",\"International Monetary Fund\", \n",
    " \"Basketball\", \"Swimming\", \"Tennis\", \"Football\", \"College Football\", \"Association Football\"]\n",
    "\n",
    " You can add more topics from different categories so that we have a diverse dataset to work with. \n",
    " Ex- About 3+ categories(groups), 3+ topics in each category, 3+ articles in each topic\n",
    "'''\n",
    "\n",
    "# selected topics\n",
    "\n",
    "group_1 = [\"Natural language processing\", \"Machine learning\", \"Quantum machine learning\", \"Artificial intelligence\", \"Data science\"]\n",
    "group_2 = [\"Basketball\", \"Swimming\", \"Tennis\", \"Football\", \"College Football\"]\n",
    "group_3 = [\"Bank of America\", \"Visa Inc.\", \"European Central Bank\", \"Bank\", \"Financial technology\"]\n",
    "\n",
    "topics = group_1 + group_2 + group_3\n",
    "\n",
    "# list of articles to be downloaded\n",
    "articles = {}\n",
    "for t in topics:\n",
    "    A = wikipedia.search(t, results = 3)\n",
    "    \n",
    "    if t in group_1:\n",
    "        i = 1\n",
    "    elif t in group_2:\n",
    "        i = 2\n",
    "    elif t in group_3:\n",
    "        i = 3\n",
    "    \n",
    "    for a in A:\n",
    "        articles[a] = i\n",
    "    \n",
    "# download and store articles (summaries) in this variable\n",
    "data = []\n",
    "label = []\n",
    "\n",
    "for a in articles:\n",
    "    try:\n",
    "        data.append(wikipedia.summary(a))\n",
    "        label.append(articles[a])\n",
    "    \n",
    "    except WikipediaException:\n",
    "        continue"
   ]
  },
  {
   "cell_type": "markdown",
   "metadata": {
    "id": "IgpRv7wQ4Dpm"
   },
   "source": [
    "### Cleaning the Data (5 points)\n",
    "In this step you will decide whether to clean the data or not. If you choose to clean, you may utilize the clean function from assignment 1.\n",
    "\n",
    "**Question:** Why are you (not) choosing to clean the data? Think in terms of whether cleaning data will help in the clustering or not."
   ]
  },
  {
   "cell_type": "markdown",
   "metadata": {
    "id": "PnZpDKcaHTGq"
   },
   "source": [
    "**Answer(1-3 sentences):** \n",
    "\n",
    "    I chose not to clean data because after actually comparing the plotting results with and without clean, I found that unclean data would help more with clustering. \n",
    "    \n",
    "    My cleaning steps included removing punctuation and stop words, numbers, etc. I thought this should be more helpful for clustering, but in reality it is not. But the difference between them is not that big.\n",
    "    "
   ]
  },
  {
   "cell_type": "code",
   "execution_count": 21,
   "metadata": {
    "ExecuteTime": {
     "end_time": "2022-06-20T00:15:00.508737Z",
     "start_time": "2022-06-20T00:15:00.493729Z"
    },
    "id": "lNj53Pxr963N"
   },
   "outputs": [],
   "source": [
    "# You can use Assignment 1's clean message function\n",
    "import re\n",
    "import nltk\n",
    "import string\n",
    "#nltk.download('punkt')\n",
    "#nltk.download('stopwords')\n",
    "from nltk.corpus import stopwords\n",
    "from nltk.stem import WordNetLemmatizer\n",
    "\n",
    "def clean_message(message):\n",
    "    \n",
    "    stopw = stopwords.words('english')\n",
    "    Lemma = WordNetLemmatizer()\n",
    "    \n",
    "    message = message.lower()\n",
    "    message = re.sub(r\"http\\S+\", \" \", message)\n",
    "    message = re.sub(r\"www.\\S+\", \" \", message)\n",
    "    message = re.sub(r\"<br />\", \" \", message)\n",
    "    \n",
    "    rmv_punc = \"\".join([r for r in message if not r in string.punctuation])\n",
    "    tokens = word_tokenize(rmv_punc)\n",
    "    words = [t for t in tokens if not t in stopw and t.isalpha()]\n",
    "    \n",
    "    # lemmatization\n",
    "    message_cleaned = \" \".join([Lemma.lemmatize(w) for w in words])\n",
    "    \n",
    "    return message\n",
    "\n"
   ]
  },
  {
   "cell_type": "markdown",
   "metadata": {
    "id": "bvRZUpmq-DmT"
   },
   "source": [
    "### Vectorize the articles (5 points)\n",
    "\n",
    "In this step, we will vectorize the text data. You can use TfidfVectorizer() or countVectorizer() from sklearn library."
   ]
  },
  {
   "cell_type": "code",
   "execution_count": 121,
   "metadata": {
    "ExecuteTime": {
     "end_time": "2022-06-20T01:51:42.537612Z",
     "start_time": "2022-06-20T01:51:42.521769Z"
    },
    "id": "gJk8YY89-OU4"
   },
   "outputs": [],
   "source": [
    "from sklearn.feature_extraction.text import TfidfVectorizer\n",
    "\n",
    "# # Clean data\n",
    "# data_cleaned = [clean_message(m) for m in data]\n",
    "\n",
    "vectorizer = TfidfVectorizer()\n",
    "X = vectorizer.fit_transform(data)"
   ]
  },
  {
   "cell_type": "code",
   "execution_count": 122,
   "metadata": {
    "ExecuteTime": {
     "end_time": "2022-06-20T01:51:42.822716Z",
     "start_time": "2022-06-20T01:51:42.817715Z"
    },
    "id": "DAIGlqEuINWA"
   },
   "outputs": [
    {
     "name": "stdout",
     "output_type": "stream",
     "text": [
      "(38, 2300)\n"
     ]
    }
   ],
   "source": [
    "print(X.shape)"
   ]
  },
  {
   "cell_type": "markdown",
   "metadata": {
    "id": "PKLvrKHRQaQq"
   },
   "source": [
    "### Sample Output:\n",
    "(36, 1552)"
   ]
  },
  {
   "cell_type": "markdown",
   "metadata": {
    "id": "M5ZrGrzD_G8d"
   },
   "source": [
    "### Plot Articles (10 points)\n",
    "Now we will try to verify the groups of articles using T-SNE from sklearn library."
   ]
  },
  {
   "cell_type": "code",
   "execution_count": 123,
   "metadata": {
    "ExecuteTime": {
     "end_time": "2022-06-20T01:51:43.966814Z",
     "start_time": "2022-06-20T01:51:43.782862Z"
    },
    "id": "SjcuZBOe-oZq"
   },
   "outputs": [],
   "source": [
    " from sklearn.manifold import TSNE\n",
    "\n",
    "# call TSNE() to fit the data\n",
    "\n",
    "X_tsne = TSNE(n_components=2).fit_transform(X)"
   ]
  },
  {
   "cell_type": "markdown",
   "metadata": {
    "id": "iCY_blxjO1bs"
   },
   "source": [
    "Plot and annotate the points with different markers for different expected groups."
   ]
  },
  {
   "cell_type": "code",
   "execution_count": 125,
   "metadata": {
    "ExecuteTime": {
     "end_time": "2022-06-20T01:51:58.048770Z",
     "start_time": "2022-06-20T01:51:57.813717Z"
    }
   },
   "outputs": [
    {
     "data": {
      "image/png": "[encoded data removed]",
      "text/plain": [
       "<Figure size 720x576 with 2 Axes>"
      ]
     },
     "metadata": {
      "needs_background": "light"
     },
     "output_type": "display_data"
    }
   ],
   "source": [
    "import matplotlib.pyplot as plt\n",
    "import seaborn as sns\n",
    "\n",
    "# get a figure handle\n",
    "fig,ax = plt.subplots(figsize=(10,8))\n",
    "\n",
    "X_tsne_df = pd.DataFrame({'tsne_x': X_tsne[:,0], 'tsne_y': X_tsne[:,1], 'groups': label})\n",
    "X_tsne_df.plot.scatter(x = 'tsne_x', y = 'tsne_y', c = 'groups', ax = ax, s = 50, colormap='viridis');\n",
    "\n",
    "for i in range(len(X_tsne_df)):\n",
    "    ax.annotate(i,(X_tsne[:,0][i],X_tsne[:,1][i]))"
   ]
  },
  {
   "cell_type": "markdown",
   "metadata": {
    "id": "dYcEi1EC_UGO"
   },
   "source": [
    "**Question:** Comment about the categorizion done by T-SNE. Do the articles of related topics cluster together? (5 points)"
   ]
  },
  {
   "cell_type": "markdown",
   "metadata": {
    "id": "tde1Wu5HI6AA"
   },
   "source": [
    "**Answer(1-3 sentences):**  \n",
    "\n",
    "    After several trials, it's clear from the results presented on the plotting that in most cases, articles on the related topics are relatively clustered together.\n"
   ]
  },
  {
   "cell_type": "markdown",
   "metadata": {
    "id": "U2xrJddIpSsd"
   },
   "source": [
    "# Question 3 Building Neural Networks\n",
    "\n",
    "### We are gonna use Emotions Dataset for this task. We need to classify the given text into different kind of emotions like happy,sad,anger etc.., \n",
    "\n",
    "### We are providing train.txt and val.txt files along with this notebook. "
   ]
  },
  {
   "cell_type": "markdown",
   "metadata": {
    "id": "NJYmVbkvphgX"
   },
   "source": [
    "### Library Imports and Utility functions"
   ]
  },
  {
   "cell_type": "code",
   "execution_count": 28,
   "metadata": {
    "ExecuteTime": {
     "end_time": "2022-06-20T00:15:03.269481Z",
     "start_time": "2022-06-20T00:15:03.032373Z"
    },
    "id": "BO-HU-7uorVX"
   },
   "outputs": [
    {
     "name": "stderr",
     "output_type": "stream",
     "text": [
      "[nltk_data] Downloading package stopwords to\n",
      "[nltk_data]     C:\\Users\\nahsi\\AppData\\Roaming\\nltk_data...\n",
      "[nltk_data]   Package stopwords is already up-to-date!\n",
      "[nltk_data] Downloading package wordnet to\n",
      "[nltk_data]     C:\\Users\\nahsi\\AppData\\Roaming\\nltk_data...\n",
      "[nltk_data]   Package wordnet is already up-to-date!\n",
      "[nltk_data] Downloading package words to\n",
      "[nltk_data]     C:\\Users\\nahsi\\AppData\\Roaming\\nltk_data...\n",
      "[nltk_data]   Package words is already up-to-date!\n"
     ]
    }
   ],
   "source": [
    "from sklearn.feature_extraction.text import CountVectorizer\n",
    "from sklearn.feature_extraction.text import TfidfVectorizer\n",
    "import nltk\n",
    "from nltk.corpus import stopwords\n",
    "from nltk.stem import PorterStemmer\n",
    "from nltk.tokenize import word_tokenize\n",
    "import string\n",
    "import pandas as pd\n",
    "import re\n",
    "#string.punctuation\n",
    "import nltk\n",
    "from sklearn import preprocessing\n",
    "import numpy as np\n",
    "\n",
    "nltk.download('stopwords')\n",
    "nltk.download('wordnet')\n",
    "nltk.download('words')\n",
    "\n",
    "stopword = nltk.corpus.stopwords.words('english')\n",
    "wn = nltk.WordNetLemmatizer()\n",
    "ps = nltk.PorterStemmer()\n",
    "words = set(nltk.corpus.words.words())\n",
    "\n",
    "\n",
    "def clean_text(text):\n",
    "  # From the last assignment\n",
    "    text = text.lower()\n",
    "    text = re.sub(r\"http\\S+\", \"\", text)\n",
    "    text = re.sub(r\"www.\\S+\", \"\", text)\n",
    "    text_links_removed = \"\".join([char for char in text if char not in string.punctuation])\n",
    "    text_cleaned = \" \".join([word for word in re.split('\\W+', text_links_removed)\n",
    "        if word not in stopword])\n",
    "    text = \" \".join([wn.lemmatize(word) for word in re.split('\\W+', text_cleaned)])\n",
    "    return text"
   ]
  },
  {
   "cell_type": "markdown",
   "metadata": {
    "id": "B0D5wVjZw7s0"
   },
   "source": [
    "### Q) Importing the datasets and do the necessary cleaning and convert the text into the vectors which are mentioned in the below code blocks. (10 points)"
   ]
  },
  {
   "cell_type": "code",
   "execution_count": 29,
   "metadata": {
    "ExecuteTime": {
     "end_time": "2022-06-20T00:15:03.316854Z",
     "start_time": "2022-06-20T00:15:03.270482Z"
    },
    "id": "MOMhmIlGprK9"
   },
   "outputs": [
    {
     "name": "stdout",
     "output_type": "stream",
     "text": [
      "train_data: (16000, 2)\n",
      "val_data: (2000, 2)\n"
     ]
    }
   ],
   "source": [
    "# Import the train.txt and val.txt file into pandas dataframe format \n",
    "\n",
    "# train \n",
    "train_data = pd.read_csv('train.txt', sep=\";\", header = None)\n",
    "\n",
    "# validation\n",
    "val_data = pd.read_csv('val.txt', sep=\";\", header = None)\n",
    "\n",
    "# and printout the train.shape and validation.shape \n",
    "\n",
    "print(\"train_data:\", train_data.shape) \n",
    "print(\"val_data:\", val_data.shape)\n",
    "\n",
    "# expected shape of train dataset is (16000,2) and validation dataset is (2000,2)"
   ]
  },
  {
   "cell_type": "code",
   "execution_count": 30,
   "metadata": {
    "ExecuteTime": {
     "end_time": "2022-06-20T00:15:04.464667Z",
     "start_time": "2022-06-20T00:15:03.317855Z"
    },
    "id": "PS7K3p7AqAI8"
   },
   "outputs": [],
   "source": [
    "# clean the text in the train and validation dataframes using the clean_text function provided above\n",
    "\n",
    "train_clean = []\n",
    "val_clean = []\n",
    "\n",
    "for text in train_data.values:\n",
    "    cleaned_train = clean_text(text[0])\n",
    "    train_clean.append(cleaned_train)\n",
    "\n",
    "for text in val_data.values:\n",
    "    cleaned_val = clean_text(text[0])\n",
    "    val_clean.append(cleaned_val)\n",
    "    \n",
    "train_clean = np.array(train_clean)\n",
    "val_clean = np.array(val_clean)"
   ]
  },
  {
   "cell_type": "code",
   "execution_count": 31,
   "metadata": {
    "ExecuteTime": {
     "end_time": "2022-06-20T00:15:04.876411Z",
     "start_time": "2022-06-20T00:15:04.465667Z"
    },
    "id": "GxZC6RIjq3bu"
   },
   "outputs": [],
   "source": [
    "# initialise count vectorizer from sklearn module with default parameter\n",
    "Count_vec = CountVectorizer()\n",
    "\n",
    "# fit on train dataset and transform both train and validation dataset\n",
    "Count_vec.fit(train_clean)\n",
    "\n",
    "train_count = Count_vec.transform(train_clean).toarray()\n",
    "val_count = Count_vec.transform(val_clean).toarray()\n"
   ]
  },
  {
   "cell_type": "code",
   "execution_count": 32,
   "metadata": {
    "ExecuteTime": {
     "end_time": "2022-06-20T00:15:05.275443Z",
     "start_time": "2022-06-20T00:15:04.877412Z"
    },
    "id": "85nuazEzq3YT"
   },
   "outputs": [],
   "source": [
    "# initialise tfidf vectorizer from sklearn module with default parameter\n",
    "Tfidf_vec = TfidfVectorizer()\n",
    "\n",
    "# fit on train dataset and transform both train and validation dataset\n",
    "Tfidf_vec.fit(train_clean)\n",
    "\n",
    "train_tfidf = Tfidf_vec.transform(train_clean).toarray()\n",
    "val_tfidf = Tfidf_vec.transform(val_clean).toarray()\n"
   ]
  },
  {
   "cell_type": "code",
   "execution_count": 33,
   "metadata": {
    "ExecuteTime": {
     "end_time": "2022-06-20T00:15:05.307457Z",
     "start_time": "2022-06-20T00:15:05.276442Z"
    },
    "id": "jgHWAuG-q3Vm"
   },
   "outputs": [],
   "source": [
    "# initialise label encoder from sklearn module\n",
    "le = preprocessing.LabelEncoder()\n",
    "\n",
    "# fit on train labels and transform both train and validation labels\n",
    "\n",
    "train_labels = [d[1] for d in train_data.values]\n",
    "val_labels = [d[1] for d in val_data.values]\n",
    "\n",
    "le.fit(train_labels)\n",
    "\n",
    "train_le = le.transform(train_labels)\n",
    "val_le = le.transform(val_labels)\n"
   ]
  },
  {
   "cell_type": "code",
   "execution_count": 34,
   "metadata": {
    "ExecuteTime": {
     "end_time": "2022-06-20T00:15:05.323468Z",
     "start_time": "2022-06-20T00:15:05.308456Z"
    },
    "id": "Wjdye0tvq3So"
   },
   "outputs": [],
   "source": [
    "# convert the labels into one hot encoding form\n",
    "ohe = preprocessing.OneHotEncoder(handle_unknown='ignore')\n",
    "\n",
    "ohe.fit(np.array(train_le).reshape(-1, 1))\n",
    "\n",
    "train_ohe = ohe.transform(np.array(train_le).reshape(-1, 1)).toarray()\n",
    "val_ohe = ohe.transform(np.array(val_le).reshape(-1, 1)).toarray()"
   ]
  },
  {
   "cell_type": "markdown",
   "metadata": {
    "id": "xjsiH8YOw-Da"
   },
   "source": [
    "### Q) Build the neural networks using tensorflow keras by following the below instructions. Evaluate the model on different metrics and comment your observations. (15 points)"
   ]
  },
  {
   "cell_type": "code",
   "execution_count": 35,
   "metadata": {
    "ExecuteTime": {
     "end_time": "2022-06-20T00:15:05.338780Z",
     "start_time": "2022-06-20T00:15:05.324469Z"
    }
   },
   "outputs": [
    {
     "name": "stdout",
     "output_type": "stream",
     "text": [
      "classes: ['sadness', 'anger', 'love', 'surprise', 'fear', 'joy']\n",
      "number of classes: 6\n"
     ]
    }
   ],
   "source": [
    "labels = [d[1] for d in train_data.values]\n",
    "\n",
    "classes = []\n",
    "for l in labels:\n",
    "    if l not in classes:\n",
    "        classes.append(l)\n",
    "\n",
    "print('classes:', classes)\n",
    "print('number of classes:', len(classes))"
   ]
  },
  {
   "cell_type": "code",
   "execution_count": 36,
   "metadata": {
    "ExecuteTime": {
     "end_time": "2022-06-20T00:15:08.775054Z",
     "start_time": "2022-06-20T00:15:05.340781Z"
    }
   },
   "outputs": [],
   "source": [
    "import tensorflow as tf\n",
    "from keras.layers import Dense, Dropout, Input\n",
    "\n",
    "tf.random.set_seed(42)\n",
    "\n",
    "# complete this linear model in tensorflow\n",
    "def build_model(X):\n",
    "    \n",
    "    model = tf.keras.Sequential()\n",
    "    \n",
    "  # layer 1 : input layer\n",
    "    model.add(tf.keras.Input((X.shape[1],)))\n",
    "\n",
    "  # layer 2 : add the dense layer with 2048 units and relu activation\n",
    "    model.add(tf.keras.layers.Dense(units=2048, activation='relu'))\n",
    "    \n",
    "  # layer 3 : add the dropout layer with dropout rate of 0.5\n",
    "    model.add(tf.keras.layers.Dropout(0.5))\n",
    "    \n",
    "  # layer 4 : add the dense layer with 1024 units with tanh activation and with l2 regularization\n",
    "    model.add(tf.keras.layers.Dense(units=1024, activation='tanh', \n",
    "                                    kernel_regularizer=tf.keras.regularizers.l2(0.001)))   \n",
    "    \n",
    "  # layer 5 : add the dropout layer with dropout rate of 0.5\n",
    "    model.add(tf.keras.layers.Dropout(0.5))\n",
    "    \n",
    "  # layer 6 : add the dense layer with 512 units with tanh activation and with l2 regularization\n",
    "    model.add(tf.keras.layers.Dense(units=512, activation='tanh', \n",
    "                                    kernel_regularizer=tf.keras.regularizers.l2(0.001)))\n",
    "\n",
    "  # layer 7 : add the dropout layer with dropout rate of 0.5\n",
    "    model.add(tf.keras.layers.Dropout(0.5))\n",
    "\n",
    "  # layer 8 : add the dense layer with 256 units with tanh activation and with l2 regularization\n",
    "    model.add(tf.keras.layers.Dense(units=256, activation='tanh', \n",
    "                                    kernel_regularizer=tf.keras.regularizers.l2(0.001)))\n",
    "\n",
    "  # layer 9 : add the dropout layer with dropout rate of 0.5\n",
    "    model.add(tf.keras.layers.Dropout(0.5))\n",
    "\n",
    "  # layer 10 : add the dense layer with 128 units with tanh activation and with l2 regularization\n",
    "    model.add(tf.keras.layers.Dense(units=128, activation='tanh', \n",
    "                                    kernel_regularizer=tf.keras.regularizers.l2(0.001)))\n",
    "\n",
    "  # layer 11 : add the dropout layer with dropout rate of 0.5\n",
    "    model.add(tf.keras.layers.Dropout(0.5))\n",
    "\n",
    "  # layer 12 : output layer with units equal to number of classes and activation as softmax\n",
    "    model.add(tf.keras.layers.Dense(units=6, activation='softmax'))\n",
    "\n",
    "  # use loss as categorical crossentropy, optimizer as rmsprop and evaluate model on auc,precision,recall,accuracy \n",
    "    model.compile(optimizer='rmsprop', loss='categorical_crossentropy',\n",
    "                  metrics=['AUC', 'Precision', 'Recall', 'accuracy']) \n",
    "    \n",
    "    return model\n"
   ]
  },
  {
   "cell_type": "code",
   "execution_count": 37,
   "metadata": {
    "ExecuteTime": {
     "end_time": "2022-06-20T00:15:10.298938Z",
     "start_time": "2022-06-20T00:15:08.776055Z"
    },
    "id": "Q71CC1pIsx0O"
   },
   "outputs": [],
   "source": [
    "# call the build_model function and initialize the model\n",
    "model_count = build_model(train_count)"
   ]
  },
  {
   "cell_type": "code",
   "execution_count": 38,
   "metadata": {
    "ExecuteTime": {
     "end_time": "2022-06-20T00:21:03.980955Z",
     "start_time": "2022-06-20T00:15:10.299939Z"
    }
   },
   "outputs": [
    {
     "name": "stdout",
     "output_type": "stream",
     "text": [
      "Epoch 1/10\n",
      "2000/2000 [==============================] - 38s 18ms/step - loss: 2.0449 - auc: 0.8767 - precision: 0.7042 - recall: 0.5102 - accuracy: 0.6071 - val_loss: 0.9422 - val_auc: 0.9689 - val_precision: 0.8532 - val_recall: 0.8050 - val_accuracy: 0.8255\n",
      "Epoch 2/10\n",
      "2000/2000 [==============================] - 36s 18ms/step - loss: 0.8204 - auc: 0.9687 - precision: 0.8616 - recall: 0.8224 - accuracy: 0.8404 - val_loss: 0.7215 - val_auc: 0.9741 - val_precision: 0.8691 - val_recall: 0.8430 - val_accuracy: 0.8570\n",
      "Epoch 3/10\n",
      "2000/2000 [==============================] - 35s 18ms/step - loss: 0.6040 - auc: 0.9800 - precision: 0.8967 - recall: 0.8761 - accuracy: 0.8856 - val_loss: 0.6387 - val_auc: 0.9767 - val_precision: 0.8844 - val_recall: 0.8645 - val_accuracy: 0.8730\n",
      "Epoch 4/10\n",
      "2000/2000 [==============================] - 35s 17ms/step - loss: 0.5241 - auc: 0.9843 - precision: 0.9115 - recall: 0.8941 - accuracy: 0.9024 - val_loss: 0.6789 - val_auc: 0.9729 - val_precision: 0.8678 - val_recall: 0.8530 - val_accuracy: 0.8605\n",
      "Epoch 5/10\n",
      "2000/2000 [==============================] - 35s 18ms/step - loss: 0.4812 - auc: 0.9862 - precision: 0.9202 - recall: 0.9072 - accuracy: 0.9126 - val_loss: 0.5609 - val_auc: 0.9807 - val_precision: 0.8939 - val_recall: 0.8800 - val_accuracy: 0.8865\n",
      "Epoch 6/10\n",
      "2000/2000 [==============================] - 36s 18ms/step - loss: 0.4505 - auc: 0.9870 - precision: 0.9271 - recall: 0.9153 - accuracy: 0.9199 - val_loss: 0.5551 - val_auc: 0.9793 - val_precision: 0.8947 - val_recall: 0.8875 - val_accuracy: 0.8895\n",
      "Epoch 7/10\n",
      "2000/2000 [==============================] - 35s 17ms/step - loss: 0.4278 - auc: 0.9874 - precision: 0.9333 - recall: 0.9215 - accuracy: 0.9264 - val_loss: 0.5978 - val_auc: 0.9756 - val_precision: 0.8887 - val_recall: 0.8780 - val_accuracy: 0.8835\n",
      "Epoch 8/10\n",
      "2000/2000 [==============================] - 34s 17ms/step - loss: 0.4156 - auc: 0.9890 - precision: 0.9351 - recall: 0.9245 - accuracy: 0.9287 - val_loss: 0.5803 - val_auc: 0.9781 - val_precision: 0.8920 - val_recall: 0.8835 - val_accuracy: 0.8865\n",
      "Epoch 9/10\n",
      "2000/2000 [==============================] - 34s 17ms/step - loss: 0.3979 - auc: 0.9895 - precision: 0.9372 - recall: 0.9277 - accuracy: 0.9321 - val_loss: 0.5620 - val_auc: 0.9777 - val_precision: 0.8959 - val_recall: 0.8825 - val_accuracy: 0.8895\n",
      "Epoch 10/10\n",
      "2000/2000 [==============================] - 35s 17ms/step - loss: 0.3829 - auc: 0.9897 - precision: 0.9410 - recall: 0.9323 - accuracy: 0.9366 - val_loss: 0.6288 - val_auc: 0.9741 - val_precision: 0.8835 - val_recall: 0.8725 - val_accuracy: 0.8755\n"
     ]
    }
   ],
   "source": [
    "# train and validate the model on the count vectors of text which we have created initially for 10 epochs, \n",
    "# adjust batch size according to your computation power (suggestion use : 8)\n",
    "\n",
    "history = model_count.fit(\n",
    "    train_count,\n",
    "    train_ohe,\n",
    "    batch_size=8,\n",
    "    epochs=10,\n",
    "    validation_data=(val_count,val_ohe),\n",
    ")"
   ]
  },
  {
   "cell_type": "code",
   "execution_count": 39,
   "metadata": {
    "ExecuteTime": {
     "end_time": "2022-06-20T00:21:03.996981Z",
     "start_time": "2022-06-20T00:21:03.981956Z"
    },
    "id": "nS02IwLCsxmG"
   },
   "outputs": [
    {
     "name": "stdout",
     "output_type": "stream",
     "text": [
      "dict_keys(['loss', 'auc', 'precision', 'recall', 'accuracy', 'val_loss', 'val_auc', 'val_precision', 'val_recall', 'val_accuracy'])\n"
     ]
    }
   ],
   "source": [
    "# plot train loss vs val loss, train auc vs val auc, train recall vs val recall, train precision vs val precision and train accuracy vs val accuracy and comment your observations\n",
    "print(history.history.keys())"
   ]
  },
  {
   "cell_type": "code",
   "execution_count": 126,
   "metadata": {
    "ExecuteTime": {
     "end_time": "2022-06-20T02:03:37.236908Z",
     "start_time": "2022-06-20T02:03:36.821411Z"
    }
   },
   "outputs": [
    {
     "name": "stdout",
     "output_type": "stream",
     "text": [
      "Both train and val data sets have decreasing ‘loss’ trends, but train has a steeper downward trend, while val is relatively smooth and does not vary much.\n"
     ]
    },
    {
     "data": {
      "image/png": "[encoded data removed]",
      "text/plain": [
       "<Figure size 432x288 with 1 Axes>"
      ]
     },
     "metadata": {
      "needs_background": "light"
     },
     "output_type": "display_data"
    },
    {
     "data": {
      "image/png": "[encoded data removed]",
      "text/plain": [
       "<Figure size 432x288 with 1 Axes>"
      ]
     },
     "metadata": {
      "needs_background": "light"
     },
     "output_type": "display_data"
    },
    {
     "data": {
      "image/png": "[encoded data removed]",
      "text/plain": [
       "<Figure size 432x288 with 1 Axes>"
      ]
     },
     "metadata": {
      "needs_background": "light"
     },
     "output_type": "display_data"
    },
    {
     "data": {
      "image/png": "[encoded data removed]",
      "text/plain": [
       "<Figure size 432x288 with 1 Axes>"
      ]
     },
     "metadata": {
      "needs_background": "light"
     },
     "output_type": "display_data"
    },
    {
     "data": {
      "image/png": "[encoded data removed]",
      "text/plain": [
       "<Figure size 432x288 with 1 Axes>"
      ]
     },
     "metadata": {
      "needs_background": "light"
     },
     "output_type": "display_data"
    }
   ],
   "source": [
    "import matplotlib.pyplot as plt\n",
    "\n",
    "plt.figure(1)\n",
    "plt.plot(history.history['loss'])\n",
    "plt.plot(history.history['val_loss'])\n",
    "plt.xlabel('epoch')\n",
    "plt.ylabel('loss')\n",
    "plt.title('train loss vs val loss - count vectors')\n",
    "plt.legend(['train', 'val'])\n",
    "\n",
    "plt.figure(2)\n",
    "plt.plot(history.history['auc'])\n",
    "plt.plot(history.history['val_auc'])\n",
    "plt.xlabel('epoch')\n",
    "plt.ylabel('auc')\n",
    "plt.title('train auc vs val auc - count vectors')\n",
    "plt.legend(['train', 'val'])\n",
    "\n",
    "plt.figure(3)\n",
    "plt.plot(history.history['recall'])\n",
    "plt.plot(history.history['val_recall'])\n",
    "plt.xlabel('epoch')\n",
    "plt.ylabel('recall')\n",
    "plt.title('train recall vs val recall - count vectors')\n",
    "plt.legend(['train', 'val'])\n",
    "\n",
    "plt.figure(4)\n",
    "plt.plot(history.history['precision'])\n",
    "plt.plot(history.history['val_precision'])\n",
    "plt.xlabel('epoch')\n",
    "plt.ylabel('auc')\n",
    "plt.title('train precision vs val precision - count vectors')\n",
    "plt.legend(['train', 'val'])\n",
    "\n",
    "plt.figure(5)\n",
    "plt.plot(history.history['accuracy'])\n",
    "plt.plot(history.history['val_accuracy'])\n",
    "plt.xlabel('epoch')\n",
    "plt.ylabel('auc')\n",
    "plt.title('train accuracy vs val accuracy - count vectors')\n",
    "plt.legend(['train', 'val'])\n",
    "\n",
    "plt.show()"
   ]
  },
  {
   "cell_type": "markdown",
   "metadata": {},
   "source": [
    "**Observations：**\n",
    "\n",
    "    For plot 1, both train and val data sets have decreasing ‘loss’ trends, But the change in train first rises sharply and then slowly, while val decrease relatively smoothly with little change.\n",
    "\n",
    "    In the remaining plots (about auc, recall, precision, and accuaracy for train vs. val), the both data show an increasing trend. Again, train has a wide range of variation and rises sharply, while val has a relatively small range of variation and rises slowly, or rather, it is waving up and down, but the overall trend is still upward.\n",
    "    "
   ]
  },
  {
   "cell_type": "code",
   "execution_count": 127,
   "metadata": {
    "ExecuteTime": {
     "end_time": "2022-06-20T02:13:38.346798Z",
     "start_time": "2022-06-20T02:13:38.297269Z"
    },
    "id": "6FHdCcp7wXyw"
   },
   "outputs": [],
   "source": [
    "# again call the build_model function and initialize the model\n",
    "model_tfidf = build_model(train_tfidf)"
   ]
  },
  {
   "cell_type": "code",
   "execution_count": 128,
   "metadata": {
    "ExecuteTime": {
     "end_time": "2022-06-20T02:19:45.458742Z",
     "start_time": "2022-06-20T02:13:38.986458Z"
    },
    "id": "k4gB80M6wXvV"
   },
   "outputs": [
    {
     "name": "stdout",
     "output_type": "stream",
     "text": [
      "Epoch 1/10\n",
      "2000/2000 [==============================] - 38s 18ms/step - loss: 1.6552 - auc: 0.8818 - precision: 0.7337 - recall: 0.4860 - accuracy: 0.6027 - val_loss: 0.9033 - val_auc: 0.9557 - val_precision: 0.8359 - val_recall: 0.7335 - val_accuracy: 0.7850\n",
      "Epoch 2/10\n",
      "2000/2000 [==============================] - 37s 18ms/step - loss: 0.8285 - auc: 0.9590 - precision: 0.8374 - recall: 0.7675 - accuracy: 0.8009 - val_loss: 0.7772 - val_auc: 0.9633 - val_precision: 0.8419 - val_recall: 0.8040 - val_accuracy: 0.8225\n",
      "Epoch 3/10\n",
      "2000/2000 [==============================] - 36s 18ms/step - loss: 0.6578 - auc: 0.9734 - precision: 0.8758 - recall: 0.8289 - accuracy: 0.8502 - val_loss: 0.7005 - val_auc: 0.9681 - val_precision: 0.8694 - val_recall: 0.8185 - val_accuracy: 0.8455\n",
      "Epoch 4/10\n",
      "2000/2000 [==============================] - 36s 18ms/step - loss: 0.5810 - auc: 0.9791 - precision: 0.8961 - recall: 0.8584 - accuracy: 0.8751 - val_loss: 0.7396 - val_auc: 0.9654 - val_precision: 0.8655 - val_recall: 0.8170 - val_accuracy: 0.8335\n",
      "Epoch 5/10\n",
      "2000/2000 [==============================] - 36s 18ms/step - loss: 0.5395 - auc: 0.9814 - precision: 0.9071 - recall: 0.8736 - accuracy: 0.8881 - val_loss: 0.6733 - val_auc: 0.9696 - val_precision: 0.8799 - val_recall: 0.8390 - val_accuracy: 0.8585\n",
      "Epoch 6/10\n",
      "2000/2000 [==============================] - 36s 18ms/step - loss: 0.5199 - auc: 0.9824 - precision: 0.9109 - recall: 0.8804 - accuracy: 0.8948 - val_loss: 0.6589 - val_auc: 0.9720 - val_precision: 0.8817 - val_recall: 0.8530 - val_accuracy: 0.8640\n",
      "Epoch 7/10\n",
      "2000/2000 [==============================] - 36s 18ms/step - loss: 0.5017 - auc: 0.9830 - precision: 0.9159 - recall: 0.8881 - accuracy: 0.8997 - val_loss: 0.6881 - val_auc: 0.9695 - val_precision: 0.8690 - val_recall: 0.8390 - val_accuracy: 0.8500\n",
      "Epoch 8/10\n",
      "2000/2000 [==============================] - 36s 18ms/step - loss: 0.4785 - auc: 0.9838 - precision: 0.9207 - recall: 0.8966 - accuracy: 0.9074 - val_loss: 0.7315 - val_auc: 0.9649 - val_precision: 0.8564 - val_recall: 0.8260 - val_accuracy: 0.8380\n",
      "Epoch 9/10\n",
      "2000/2000 [==============================] - 37s 18ms/step - loss: 0.4730 - auc: 0.9848 - precision: 0.9211 - recall: 0.9001 - accuracy: 0.9106 - val_loss: 0.6709 - val_auc: 0.9682 - val_precision: 0.8769 - val_recall: 0.8445 - val_accuracy: 0.8575\n",
      "Epoch 10/10\n",
      "2000/2000 [==============================] - 36s 18ms/step - loss: 0.4550 - auc: 0.9855 - precision: 0.9258 - recall: 0.9043 - accuracy: 0.9137 - val_loss: 0.6968 - val_auc: 0.9687 - val_precision: 0.8677 - val_recall: 0.8430 - val_accuracy: 0.8515\n"
     ]
    }
   ],
   "source": [
    "# train and validate the model on the tfidf vectors of text which we have created initially for 10 epochs, \n",
    "# adjust batch size according to your computation power (suggestion use : 8)\n",
    "\n",
    "history = model_tfidf.fit(\n",
    "    train_tfidf,\n",
    "    train_ohe,\n",
    "    batch_size=8,\n",
    "    epochs=10,\n",
    "    validation_data=(val_tfidf,val_ohe),\n",
    ")"
   ]
  },
  {
   "cell_type": "code",
   "execution_count": 129,
   "metadata": {
    "ExecuteTime": {
     "end_time": "2022-06-20T02:20:28.364836Z",
     "start_time": "2022-06-20T02:20:28.357763Z"
    }
   },
   "outputs": [
    {
     "name": "stdout",
     "output_type": "stream",
     "text": [
      "dict_keys(['loss', 'auc', 'precision', 'recall', 'accuracy', 'val_loss', 'val_auc', 'val_precision', 'val_recall', 'val_accuracy'])\n"
     ]
    }
   ],
   "source": [
    "print(history.history.keys())"
   ]
  },
  {
   "cell_type": "code",
   "execution_count": 130,
   "metadata": {
    "ExecuteTime": {
     "end_time": "2022-06-20T02:20:29.502553Z",
     "start_time": "2022-06-20T02:20:29.096484Z"
    },
    "id": "EsnEOHXRwXkv"
   },
   "outputs": [
    {
     "data": {
      "image/png": "[encoded data removed]",
      "text/plain": [
       "<Figure size 432x288 with 1 Axes>"
      ]
     },
     "metadata": {
      "needs_background": "light"
     },
     "output_type": "display_data"
    },
    {
     "data": {
      "image/png": "[encoded data removed]",
      "text/plain": [
       "<Figure size 432x288 with 1 Axes>"
      ]
     },
     "metadata": {
      "needs_background": "light"
     },
     "output_type": "display_data"
    },
    {
     "data": {
      "image/png": "[encoded data removed]",
      "text/plain": [
       "<Figure size 432x288 with 1 Axes>"
      ]
     },
     "metadata": {
      "needs_background": "light"
     },
     "output_type": "display_data"
    },
    {
     "data": {
      "image/png": "[encoded data removed]",
      "text/plain": [
       "<Figure size 432x288 with 1 Axes>"
      ]
     },
     "metadata": {
      "needs_background": "light"
     },
     "output_type": "display_data"
    },
    {
     "data": {
      "image/png": "[encoded data removed]",
      "text/plain": [
       "<Figure size 432x288 with 1 Axes>"
      ]
     },
     "metadata": {
      "needs_background": "light"
     },
     "output_type": "display_data"
    }
   ],
   "source": [
    "# plot train loss vs val loss, train auc vs val auc, train recall vs val recall, train precision vs val precision and train accuracy vs val accuracy and comment your observations\n",
    "import matplotlib.pyplot as plt\n",
    "\n",
    "plt.figure(6)\n",
    "plt.plot(history.history['loss'])\n",
    "plt.plot(history.history['val_loss'])\n",
    "plt.xlabel('epoch')\n",
    "plt.ylabel('loss')\n",
    "plt.title('train loss vs val loss - tfidf vectors')\n",
    "plt.legend(['train', 'val'])\n",
    "\n",
    "plt.figure(7)\n",
    "plt.plot(history.history['auc'])\n",
    "plt.plot(history.history['val_auc'])\n",
    "plt.xlabel('epoch')\n",
    "plt.ylabel('auc')\n",
    "plt.title('train auc vs val auc - tfidf vectors')\n",
    "plt.legend(['train', 'val'])\n",
    "\n",
    "plt.figure(8)\n",
    "plt.plot(history.history['recall'])\n",
    "plt.plot(history.history['val_recall'])\n",
    "plt.xlabel('epoch')\n",
    "plt.ylabel('recall')\n",
    "plt.title('train recall vs val recall - tfidf vectors')\n",
    "plt.legend(['train', 'val'])\n",
    "\n",
    "plt.figure(9)\n",
    "plt.plot(history.history['precision'])\n",
    "plt.plot(history.history['val_precision'])\n",
    "plt.xlabel('epoch')\n",
    "plt.ylabel('auc')\n",
    "plt.title('train precision vs val precision - tfidf vectors')\n",
    "plt.legend(['train', 'val'])\n",
    "\n",
    "plt.figure(10)\n",
    "plt.plot(history.history['accuracy'])\n",
    "plt.plot(history.history['val_accuracy'])\n",
    "plt.xlabel('epoch')\n",
    "plt.ylabel('auc')\n",
    "plt.title('train accuracy vs val accuracy - tfidf vectors')\n",
    "plt.legend(['train', 'val'])\n",
    "\n",
    "plt.show()"
   ]
  },
  {
   "cell_type": "markdown",
   "metadata": {},
   "source": [
    "**Observations：**\n",
    "    \n",
    "    The data trends presented by train and validate the model on the tfidf vectors look similar to those presented by train and validate the model on the count vectors, with 'loss ' shows a decreasing trend, while 'auc', 'recall', 'precision', and 'accuracy' shows an increasing trend.\n",
    "    \n",
    "    The slight difference is that the train is still changing rapidly first and then smoothly, while the val range is still not as large as the train range, it does fluctuate more. Val curve looks sharper, while the train is smoother.\n",
    "    "
   ]
  },
  {
   "cell_type": "markdown",
   "metadata": {
    "id": "4adDDQWeQyGb"
   },
   "source": [
    "## Question 4 Theory Question  \n",
    "\n",
    "What is the difference between Count Vectorizer, TFIDF, Word2Vec and Glove? (5 points)"
   ]
  },
  {
   "cell_type": "markdown",
   "metadata": {
    "id": "cXTRkF6KRB_D"
   },
   "source": [
    "**Answer:** \n",
    "\n",
    "    1. Count Vectorizer is a text feature extraction method that belongs to the common class of feature value calculation. For each training text, it only considers the frequency of each word in that training text. countVectorizer converts the words in the text into a word frequency matrix, and it calculates the number of occurrences of each word by the fit_transform function\n",
    "\n",
    "    2. TF-IDF is a statistical method to evaluate the importance of a word for a document set or one of the documents in a corpus. The importance of a word increases proportionally with its occurrence in a document, but decreases inversely with its frequency in a corpus. various forms of TF-IDF weighting are often applied by search engines as a measure or rating of the relevance between a document and a user's query. the main idea of TF-IDF is that if a word or phrase has a high frequency of TF occurrence in an article and a low frequency of TF occurrence in other articles, then the word or phrase is considered to have good category differentiation ability and is suitable for classification.\n",
    "\n",
    "    3. Word2vec is a group of related models used to generate word vectors. These models are shallow, two-layer neural networks that are trained to reconstruct linguistic word text. The networks are represented by words and need to guess the input words in adjacent positions, under the assumption of the bag-of-words model in word2vec, the order of words is not important. After training, the word2vec model can be used to map each word to a vector, which can be used to represent word-to-word relationships, and is the hidden layer of the neural network. It is the process of transforming words into \"computable\", \"structured\" vectors.\n",
    "\n",
    "    4. Glove is a word representation tool based on global word frequency statistics, it can list a word into a vector of real numbers and calculate the semantic similarity between two words by operations on the vector, such as Euclidean distance or cosine similarity.\n",
    "\n",
    "*The differences between them are:*\n",
    "\n",
    "    1. Glove and Word2vec are both unsupervised models for generating word vectors. Both models can encode words into a vector based on the \"co-occurrence\" information of the words (i.e. the frequency of occurrence of a word in the corpus). The difference lies in the mechanism used to generate the word vectors, with word2vec being a \"predictive\" model and GloVe being a \"count-based\" model. The word vectors generated by either of these models can be used for a variety of tasks.\n",
    "\n",
    "    2. For each training text, CountVectorizer only considers the frequency of each word in the training text, while TfidfVectorizer considers the frequency of a word in the current training text and the inverse of the number of other training texts containing this word. In contrast, the larger the number of training texts, the more advantageous the feature quantification approach of TfidfVectorizer is.\n",
    "\n",
    "    3. TF-IDF is a word-document mapping (with some normalization). It ignores the order of words and gives an nxm matrix (or mxn, depending on the implementation), where n is the number of words in the vocabulary and m is the number of documents. On the other hand, Word2Vec provides a unique vector for each word, based on the words that appear around that particular word.TF-IDF is obtained from simple linear algebra.Word2Vec is obtained from the hidden layer of a two-layer neural network.TF-IDF can be used to assign vectors to either words or documents.Word2Vec can be used directly to assign a vector to a word, but to Word2Vec can be used directly to assign a vector to a word, but to obtain a vector representation of a document requires further processing. Unlike TF-IDF, Word2Vec takes into account the position of the word in the document (to some extent)\n"
   ]
  },
  {
   "cell_type": "markdown",
   "metadata": {
    "id": "yQQsqcto79zE"
   },
   "source": [
    "What is the significant difference between the Niave Bayes Implementation using Bag of Words and TF-IDF? (5 points)"
   ]
  },
  {
   "cell_type": "markdown",
   "metadata": {
    "id": "JtiPCTZM8Aua"
   },
   "source": [
    "**Answer:**\n",
    "\n",
    "    Bag of Words just creates a set of vectors containing the count of word occurrences in the document (reviews), while the TF-IDF model contains information on the more important words and the less important ones as well.\n",
    "\n",
    "    Bag of Words: This model ignores the grammatical and sequential elements of the text and considers it as just a collection of several words, with each word occurring independently in the document. It does not consider the order of words in a sentence, but only the number of occurrences of words in the vocabulary in that sentence. The value of each position in the vector is the number of occurrences of the word corresponding to that code in the passage. In most cases, we use the bag-of-words model. Most of the text will use only a small fraction of the words in the vocabulary, so our word vector will have a large number of zeros, which means that the word vector is sparse. In practical applications sparse matrices are generally used for storage.\n",
    "\n",
    "    The BOW model also has many drawbacks, firstly it does not consider the order between words, and secondly it does not reflect the keywords of a sentence. The bag-of-words model considers that the words with more occurrences in the text have more weight, so the value is the number of times the word appears in the text.\n",
    "\n",
    "    The TF-IDF model has the same idea as the bag-of-words model, except that the value of the vector is different. TF-IDF thinks that words like \"the\", \"I\" and \"you\" must appear more often in the text, but it really doesn't make sense. TF-IDF introduces document frequency to weaken the weight of words like \"the\", \"I\", and \"you\". Document frequency is the number of times a word appears in a document. TF refers to the number of occurrences of a word in the text in the bag-of-words model. The larger the TF-IDF of a word in an article, the higher the importance of the word in the article, so the TF-IDF of each word in the article is calculated and sorted from largest to smallest, and the words at the top are the keywords of the article.\n",
    "\n",
    "    Although TF-IDF has the advantages of being simple, fast, and easy to understand. However, it also has disadvantages: sometimes using word frequency to measure the importance of a word in an article is not comprehensive enough, sometimes important words may not appear enough, and this calculation cannot reflect positional information and the importance of words in context.\n"
   ]
  },
  {
   "cell_type": "code",
   "execution_count": null,
   "metadata": {
    "id": "OaXBo1Bw8C1K"
   },
   "outputs": [],
   "source": []
  }
 ],
 "metadata": {
  "colab": {
   "collapsed_sections": [],
   "name": "CS6120_NLP_Assignment_2_Notebook",
   "provenance": []
  },
  "kernelspec": {
   "display_name": "Python 3 (ipykernel)",
   "language": "python",
   "name": "python3"
  },
  "language_info": {
   "codemirror_mode": {
    "name": "ipython",
    "version": 3
   },
   "file_extension": ".py",
   "mimetype": "text/x-python",
   "name": "python",
   "nbconvert_exporter": "python",
   "pygments_lexer": "ipython3",
   "version": "3.9.12"
  }
 },
 "nbformat": 4,
 "nbformat_minor": 1
}
